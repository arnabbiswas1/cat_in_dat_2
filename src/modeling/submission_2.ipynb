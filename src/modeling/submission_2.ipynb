{
 "cells": [
  {
   "cell_type": "markdown",
   "metadata": {},
   "source": [
    "### Submission 1\n",
    "\n",
    "- Baseline\n",
    "    - Missing data is filled with outlier values like 'missing', 99 etc\n",
    "    - Label Encoding of all the categorical variables\n",
    "    - LGBM\n",
    "- Redefined the orders of ord_1, ord_2"
   ]
  },
  {
   "cell_type": "code",
   "execution_count": 1,
   "metadata": {},
   "outputs": [
    {
     "name": "stdout",
     "output_type": "stream",
     "text": [
      "Loading Data...\n",
      "Shape of train.csv : (600000, 24)\n",
      "Shape of test.csv : (400000, 23)\n",
      "Shape of sample_submission.csv : (400000, 2)\n",
      "Data Loaded...\n",
      "Shape of the combined DF (1000000, 23)\n",
      "Number of nominal features 10\n",
      "Nominal Features : ['nom_0', 'nom_1', 'nom_2', 'nom_3', 'nom_4', 'nom_5', 'nom_6', 'nom_7', 'nom_8', 'nom_9']\n",
      "Number of binary features 5\n",
      "Binary Features : ['bin_0', 'bin_1', 'bin_2', 'bin_3', 'bin_4']\n",
      "Number of ordinal features 6\n",
      "Ordinal Features : ['ord_0', 'ord_1', 'ord_2', 'ord_3', 'ord_4', 'ord_5']\n",
      "Converting ord_0 in ordered categorical\n",
      "Converting ord_3 in ordered categorical\n",
      "Converting ord_4 in ordered categorical\n",
      "Converting ord_5 in ordered categorical\n",
      "Categories for feature ord_1_cat : Index(['Novice', 'Contributor', 'Expert', 'Master', 'Grandmaster',\n",
      "       'missing_ord'],\n",
      "      dtype='object')\n",
      "Categories for feature ord_2_cat : Index(['Freezing', 'Cold', 'Warm', 'Hot', 'Boiling Hot', 'Lava Hot',\n",
      "       'missing_ord'],\n",
      "      dtype='object')\n",
      "Categories for feature ord_0_cat : Float64Index([1.0, 2.0, 3.0, 999.0], dtype='float64')\n",
      "Categories for feature ord_3_cat : Index(['a', 'b', 'c', 'd', 'e', 'f', 'g', 'h', 'i', 'j', 'k', 'l', 'm',\n",
      "       'missing_ord', 'n', 'o'],\n",
      "      dtype='object')\n",
      "Categories for feature ord_4_cat : Index(['A', 'B', 'C', 'D', 'E', 'F', 'G', 'H', 'I', 'J', 'K', 'L', 'M', 'N',\n",
      "       'O', 'P', 'Q', 'R', 'S', 'T', 'U', 'V', 'W', 'X', 'Y', 'Z',\n",
      "       'missing_ord'],\n",
      "      dtype='object')\n",
      "Categories for feature ord_5_cat : Index(['AG', 'AI', 'AU', 'AW', 'Ay', 'BL', 'BX', 'Bx', 'CN', 'CU',\n",
      "       ...\n",
      "       'wa', 'xB', 'xF', 'xG', 'yE', 'yK', 'zc', 'ze', 'zf', 'zp'],\n",
      "      dtype='object', length=191)\n",
      "List of new_features : ['ord_1_cat', 'ord_2_cat', 'ord_0_cat', 'ord_3_cat', 'ord_4_cat', 'ord_5_cat']\n",
      "List of features_to_removed : ['ord_1', 'ord_2', 'ord_0', 'ord_3', 'ord_4', 'ord_5']\n",
      "Converting bin_0 in categorical\n",
      "Converting bin_1 in categorical\n",
      "Converting bin_2 in categorical\n",
      "Converting bin_3 in categorical\n",
      "Converting bin_4 in categorical\n",
      "Converting nom_0 in categorical\n",
      "Converting nom_1 in categorical\n",
      "Converting nom_2 in categorical\n",
      "Converting nom_3 in categorical\n",
      "Converting nom_4 in categorical\n",
      "Converting nom_5 in categorical\n",
      "Converting nom_6 in categorical\n",
      "Converting nom_7 in categorical\n",
      "Converting nom_8 in categorical\n",
      "Converting nom_9 in categorical\n",
      "Converting day in categorical\n",
      "Converting month in categorical\n",
      "ord_1_cat\n",
      "ord_2_cat\n",
      "ord_0_cat\n",
      "ord_3_cat\n",
      "ord_4_cat\n",
      "ord_5_cat\n",
      "bin_0_cat\n",
      "bin_1_cat\n",
      "bin_2_cat\n",
      "bin_3_cat\n",
      "bin_4_cat\n",
      "nom_0_cat\n",
      "nom_1_cat\n",
      "nom_2_cat\n",
      "nom_3_cat\n",
      "nom_4_cat\n",
      "nom_5_cat\n",
      "nom_6_cat\n",
      "nom_7_cat\n",
      "nom_8_cat\n",
      "nom_9_cat\n",
      "day_cat\n",
      "month_cat\n",
      "train_X : (600000, 23)\n",
      "test_X : (400000, 23)\n",
      "train_Y : (600000,)\n"
     ]
    }
   ],
   "source": [
    "import sys\n",
    "\n",
    "import pandas as pd\n",
    "import numpy as np\n",
    "\n",
    "from sklearn.preprocessing import LabelEncoder\n",
    "from sklearn.model_selection import StratifiedKFold\n",
    "\n",
    "sys.path.insert(0, \"/home/jupyter/kaggle/cat_in_dat_2_git/cat_in_dat_2/src\")\n",
    "import utility\n",
    "\n",
    "DATA_DIR = '/home/jupyter/kaggle/cat_in_dat_2_git/cat_in_dat_2/data/read_only'\n",
    "SEED = 42\n",
    "\n",
    "\n",
    "utility.set_seed(SEED)\n",
    "\n",
    "#Read the data file\n",
    "train, test, submission = utility.read_files(DATA_DIR, index_col='id')\n",
    "\n",
    "combined_df = pd.concat([train.drop('target', axis=1), test])\n",
    "print(f'Shape of the combined DF {combined_df.shape}')\n",
    "\n",
    "train_index = train.shape[0]\n",
    "train_Y = train.target\n",
    "\n",
    "# Fill the missing values\n",
    "nom_features = utility.get_fetaure_names(train, 'nom')\n",
    "print(f'Number of nominal features {len(nom_features)}')\n",
    "print(f'Nominal Features : {nom_features}')\n",
    "\n",
    "binary_features = utility.get_fetaure_names(train, 'bin')\n",
    "print(f'Number of binary features {len(binary_features)}')\n",
    "print(f'Binary Features : {binary_features}')\n",
    "\n",
    "ordinal_fetaures = utility.get_fetaure_names(train, 'ord')\n",
    "print(f'Number of ordinal features {len(ordinal_fetaures)}')\n",
    "print(f'Ordinal Features : {ordinal_fetaures}')\n",
    "\n",
    "#Filling missing values\n",
    "combined_df[['bin_3', 'bin_4']] = combined_df[['bin_3', 'bin_4']].fillna('missing_binary')\n",
    "combined_df[['bin_0', 'bin_1', 'bin_2']] = combined_df[['bin_0', 'bin_1', 'bin_2']].fillna(-1)\n",
    "\n",
    "# Filling nominal variables with missing values\n",
    "combined_df[nom_features] = combined_df[nom_features].fillna('missing_nom')\n",
    "\n",
    "# ord_0 has apparently value fo type integer. \n",
    "combined_df['ord_0'] = combined_df['ord_0'].fillna(999)\n",
    "\n",
    "# Fill missing values for other ordinal values\n",
    "combined_df[['ord_1', 'ord_2', 'ord_3', 'ord_4', 'ord_5']] = combined_df[['ord_1', 'ord_2', 'ord_3', 'ord_4', 'ord_5']].fillna('missing_ord')\n",
    "\n",
    "combined_df['day'] = combined_df['day'].fillna(999) \n",
    "combined_df['month'] = combined_df['month'].fillna(999)\n",
    "\n",
    "# List to maintain names\n",
    "new_features = []\n",
    "features_to_removed = []\n",
    "\n",
    "# For  ord_1, ord_2 we can decide on the order based on names\n",
    "cat_type_ord_1 = pd.CategoricalDtype(categories=['Novice', 'Contributor', 'Expert', 'Master', 'Grandmaster', 'missing_ord'])\n",
    "combined_df['ord_1_cat'] = combined_df['ord_1'].astype(cat_type_ord_1)\n",
    "\n",
    "cat_type_ord_2 = pd.CategoricalDtype(categories=['Freezing', 'Cold', 'Warm', 'Hot', 'Boiling Hot', 'Lava Hot', 'missing_ord'])\n",
    "combined_df['ord_2_cat'] = combined_df['ord_2'].astype(cat_type_ord_2)\n",
    "\n",
    "new_features = new_features + ['ord_1_cat', 'ord_2_cat']\n",
    "features_to_removed = features_to_removed + ['ord_1', 'ord_2']\n",
    "\n",
    "# Convert rest of the ordinal features in categories \n",
    "for feature_name in ['ord_0', 'ord_3', 'ord_4', 'ord_5']:\n",
    "    print(f'Converting {feature_name} in ordered categorical')\n",
    "    combined_df[feature_name + '_cat'] = pd.Categorical(combined_df[feature_name], ordered=True)\n",
    "    new_features = new_features + [feature_name + '_cat']\n",
    "    features_to_removed = features_to_removed + [feature_name]\n",
    "\n",
    "# Print the order of the ordinal features\n",
    "for name in utility.get_fetaure_names(combined_df, '_cat'):\n",
    "    print(f'Categories for feature {name} : {combined_df[name].cat.categories}')\n",
    "\n",
    "print(f'List of new_features : {new_features}')\n",
    "print(f'List of features_to_removed : {features_to_removed}')\n",
    "\n",
    "feature_list = [name for name in combined_df.select_dtypes(['object', 'float64']) if name not in features_to_removed]\n",
    "# Print rest of the variables into categorical\n",
    "for feature_name in feature_list:\n",
    "    print(f'Converting {feature_name} in categorical')\n",
    "    combined_df[feature_name + '_cat'] = pd.Categorical(combined_df[feature_name])\n",
    "    new_features = new_features + [feature_name + '_cat']\n",
    "    features_to_removed = features_to_removed + [feature_name]\n",
    "\n",
    "# Keep a copy of the original DF\n",
    "combined_df_org = combined_df.copy(deep=True)\n",
    "\n",
    "# remove the features not needed\n",
    "combined_df = combined_df.drop(features_to_removed, axis=1)\n",
    "\n",
    "for name in combined_df.columns:\n",
    "    lb = LabelEncoder()\n",
    "    print(name)\n",
    "    combined_df[name] = lb.fit_transform(combined_df[name])\n",
    "\n",
    "train_X = combined_df[:train_index]\n",
    "test_X = combined_df[train_index:]\n",
    "\n",
    "print(f\"train_X : {train_X.shape}\")\n",
    "print(f\"test_X : {test_X.shape}\")\n",
    "print(f\"train_Y : {train_Y.shape}\")"
   ]
  },
  {
   "cell_type": "markdown",
   "metadata": {},
   "source": [
    "## LGBM + Strartified 5 folds + 10000 trees + 100 early stopping"
   ]
  },
  {
   "cell_type": "code",
   "execution_count": 9,
   "metadata": {},
   "outputs": [
    {
     "name": "stdout",
     "output_type": "stream",
     "text": [
      "fold 1 of 2\n"
     ]
    },
    {
     "name": "stderr",
     "output_type": "stream",
     "text": [
      "/home/jupyter/anaconda3/envs/py37/lib/python3.7/site-packages/lightgbm/engine.py:148: UserWarning:\n",
      "\n",
      "Found `num_trees` in params. Will use it instead of argument\n",
      "\n",
      "/home/jupyter/anaconda3/envs/py37/lib/python3.7/site-packages/lightgbm/engine.py:153: UserWarning:\n",
      "\n",
      "Found `early_stopping_rounds` in params. Will use it instead of argument\n",
      "\n"
     ]
    },
    {
     "name": "stdout",
     "output_type": "stream",
     "text": [
      "Training until validation scores don't improve for 100 rounds\n",
      "[50]\ttraining's auc: 0.755966\tvalid_1's auc: 0.746241\n",
      "[100]\ttraining's auc: 0.770553\tvalid_1's auc: 0.756125\n",
      "[150]\ttraining's auc: 0.781786\tvalid_1's auc: 0.762536\n",
      "[200]\ttraining's auc: 0.790165\tvalid_1's auc: 0.765574\n",
      "[250]\ttraining's auc: 0.79703\tvalid_1's auc: 0.766863\n",
      "[300]\ttraining's auc: 0.803277\tvalid_1's auc: 0.767579\n",
      "[350]\ttraining's auc: 0.808998\tvalid_1's auc: 0.767804\n",
      "[400]\ttraining's auc: 0.814548\tvalid_1's auc: 0.768051\n",
      "[450]\ttraining's auc: 0.820015\tvalid_1's auc: 0.768129\n",
      "[500]\ttraining's auc: 0.825155\tvalid_1's auc: 0.768075\n",
      "Early stopping, best iteration is:\n",
      "[430]\ttraining's auc: 0.817969\tvalid_1's auc: 0.768216\n",
      "CV OOF Score for fold 1 is 0.7682160504595583\n",
      "fold 2 of 2\n"
     ]
    },
    {
     "name": "stderr",
     "output_type": "stream",
     "text": [
      "/home/jupyter/anaconda3/envs/py37/lib/python3.7/site-packages/lightgbm/engine.py:148: UserWarning:\n",
      "\n",
      "Found `num_trees` in params. Will use it instead of argument\n",
      "\n",
      "/home/jupyter/anaconda3/envs/py37/lib/python3.7/site-packages/lightgbm/engine.py:153: UserWarning:\n",
      "\n",
      "Found `early_stopping_rounds` in params. Will use it instead of argument\n",
      "\n"
     ]
    },
    {
     "name": "stdout",
     "output_type": "stream",
     "text": [
      "Training until validation scores don't improve for 100 rounds\n",
      "[50]\ttraining's auc: 0.754506\tvalid_1's auc: 0.747014\n",
      "[100]\ttraining's auc: 0.76951\tvalid_1's auc: 0.757182\n",
      "[150]\ttraining's auc: 0.780845\tvalid_1's auc: 0.763563\n",
      "[200]\ttraining's auc: 0.788582\tvalid_1's auc: 0.765643\n",
      "[250]\ttraining's auc: 0.795971\tvalid_1's auc: 0.767566\n",
      "[300]\ttraining's auc: 0.802198\tvalid_1's auc: 0.768448\n",
      "[350]\ttraining's auc: 0.807759\tvalid_1's auc: 0.768549\n",
      "[400]\ttraining's auc: 0.813221\tvalid_1's auc: 0.768698\n",
      "[450]\ttraining's auc: 0.818284\tvalid_1's auc: 0.768884\n",
      "[500]\ttraining's auc: 0.823478\tvalid_1's auc: 0.768906\n",
      "[550]\ttraining's auc: 0.828068\tvalid_1's auc: 0.768885\n",
      "[600]\ttraining's auc: 0.832659\tvalid_1's auc: 0.768824\n",
      "Early stopping, best iteration is:\n",
      "[516]\ttraining's auc: 0.824928\tvalid_1's auc: 0.768948\n",
      "CV OOF Score for fold 2 is 0.7689479975701903\n",
      "Combined OOF score : 0.76858\n",
      "Average of 2 folds OOF score 0.76858\n",
      "std of 2 folds OOF score 0.00037\n"
     ]
    }
   ],
   "source": [
    "lgb_params = {\n",
    "    'objective':'binary',\n",
    "    'boosting_type':'gbdt',\n",
    "    'metric':'auc',\n",
    "    'n_jobs':-1,\n",
    "    'verbose':-1,\n",
    "    'seed': SEED,\n",
    "    'num_trees':10000,\n",
    "    'early_stopping_rounds':100,\n",
    "    }\n",
    "kf = StratifiedKFold(n_splits=2, random_state=SEED, shuffle=True)\n",
    "result_dict = utility.make_prediction_classification(train_X, train_Y, test_X, params=lgb_params, seed=SEED, kf=kf)"
   ]
  },
  {
   "cell_type": "markdown",
   "metadata": {},
   "source": [
    "## LGBM + Strartified 5 folds + Default parameters"
   ]
  },
  {
   "cell_type": "code",
   "execution_count": 12,
   "metadata": {},
   "outputs": [
    {
     "name": "stdout",
     "output_type": "stream",
     "text": [
      "fold 1 of 2\n",
      "Training until validation scores don't improve for 100 rounds\n",
      "[50]\ttraining's auc: 0.755966\tvalid_1's auc: 0.746241\n",
      "[100]\ttraining's auc: 0.770553\tvalid_1's auc: 0.756125\n",
      "Did not meet early stopping. Best iteration is:\n",
      "[100]\ttraining's auc: 0.770553\tvalid_1's auc: 0.756125\n",
      "CV OOF Score for fold 1 is 0.7561249769434389\n",
      "fold 2 of 2\n",
      "Training until validation scores don't improve for 100 rounds\n",
      "[50]\ttraining's auc: 0.754506\tvalid_1's auc: 0.747014\n",
      "[100]\ttraining's auc: 0.76951\tvalid_1's auc: 0.757182\n",
      "Did not meet early stopping. Best iteration is:\n",
      "[100]\ttraining's auc: 0.76951\tvalid_1's auc: 0.757182\n",
      "CV OOF Score for fold 2 is 0.7571819662803558\n",
      "Combined OOF score : 0.75665\n",
      "Average of 2 folds OOF score 0.75665\n",
      "std of 2 folds OOF score 0.00053\n"
     ]
    }
   ],
   "source": [
    "lgb_params = {\n",
    "    'objective':'binary',\n",
    "    'boosting_type':'gbdt',\n",
    "    'metric':'auc',\n",
    "    'n_jobs':-1,\n",
    "    'verbose':-1,\n",
    "    'seed': SEED\n",
    "    }\n",
    "kf = StratifiedKFold(n_splits=2, random_state=SEED, shuffle=True)\n",
    "result_dict = utility.make_prediction_classification(train_X, train_Y, test_X, params=lgb_params, seed=SEED, kf=kf)"
   ]
  },
  {
   "cell_type": "code",
   "execution_count": 5,
   "metadata": {},
   "outputs": [],
   "source": [
    "xgb_params = {\n",
    "    #'verbosity':0,\n",
    "    'validate_parameters' : True,\n",
    "    'objective' : 'binary:logistic',\n",
    "    'eval_metric' : 'auc',\n",
    "    'seed' : SEED,\n",
    "    }"
   ]
  },
  {
   "cell_type": "code",
   "execution_count": 6,
   "metadata": {},
   "outputs": [
    {
     "name": "stdout",
     "output_type": "stream",
     "text": [
      "fold 1 of 2\n",
      "[0]\ttrain-auc:0.69237\tvalid_data-auc:0.686583\n",
      "Multiple eval metrics have been passed: 'valid_data-auc' will be used for early stopping.\n",
      "\n",
      "Will train until valid_data-auc hasn't improved in 100 rounds.\n",
      "[50]\ttrain-auc:0.78963\tvalid_data-auc:0.756961\n",
      "[100]\ttrain-auc:0.817287\tvalid_data-auc:0.763715\n",
      "[150]\ttrain-auc:0.836187\tvalid_data-auc:0.763296\n",
      "[200]\ttrain-auc:0.852295\tvalid_data-auc:0.762366\n",
      "Stopping. Best iteration:\n",
      "[100]\ttrain-auc:0.817287\tvalid_data-auc:0.763715\n",
      "\n",
      "CV OOF Score for fold 1 is 0.7637146210251775\n",
      "fold 2 of 2\n",
      "[0]\ttrain-auc:0.69198\tvalid_data-auc:0.688494\n",
      "Multiple eval metrics have been passed: 'valid_data-auc' will be used for early stopping.\n",
      "\n",
      "Will train until valid_data-auc hasn't improved in 100 rounds.\n",
      "[50]\ttrain-auc:0.789042\tvalid_data-auc:0.758757\n",
      "[100]\ttrain-auc:0.815862\tvalid_data-auc:0.763954\n",
      "[150]\ttrain-auc:0.835926\tvalid_data-auc:0.764582\n",
      "[200]\ttrain-auc:0.851866\tvalid_data-auc:0.763411\n",
      "Stopping. Best iteration:\n",
      "[125]\ttrain-auc:0.826297\tvalid_data-auc:0.764883\n",
      "\n",
      "CV OOF Score for fold 2 is 0.7648832462711128\n",
      "Combined OOF score : 0.76429\n",
      "Average of 2 folds OOF score 0.7643\n",
      "std of 2 folds OOF score 0.00058\n"
     ]
    }
   ],
   "source": [
    "kf = StratifiedKFold(n_splits=2, random_state=SEED, shuffle=True)\n",
    "result_dict = utility.make_prediction_classification(train_X, train_Y, test_X, params=xgb_params, kf=kf,\n",
    "                                                     n_estimators=10000, early_stopping_rounds=100, seed=SEED, model_type='xgb')"
   ]
  },
  {
   "cell_type": "code",
   "execution_count": 6,
   "metadata": {},
   "outputs": [
    {
     "data": {
      "text/plain": [
       "{'yoof': array([0.04197939, 0.20946288, 0.23120883, ..., 0.13139835, 0.13190025,\n",
       "        0.09599186]),\n",
       " 'prediction': array([0.25661213, 0.24548976, 0.15422952, ..., 0.42731411, 0.23766207,\n",
       "        0.17423461]),\n",
       " 'oof_score': 0.76857,\n",
       " 'cv_scores': [0.7679927999693894,\n",
       "  0.7677700731649933,\n",
       "  0.7657897048741575,\n",
       "  0.7696576356383572,\n",
       "  0.7717509583545654],\n",
       " 'avg_cv_scores': 0.76859,\n",
       " 'std_cv_scores': 0.002}"
      ]
     },
     "execution_count": 6,
     "metadata": {},
     "output_type": "execute_result"
    }
   ],
   "source": [
    "result_dict"
   ]
  },
  {
   "cell_type": "code",
   "execution_count": null,
   "metadata": {},
   "outputs": [],
   "source": []
  },
  {
   "cell_type": "code",
   "execution_count": 9,
   "metadata": {},
   "outputs": [],
   "source": [
    "cat_params = {\n",
    "    'loss_function' : 'Logloss',\n",
    "    'eval_metric' : 'AUC',\n",
    "    'n_estimators' : 1000,\n",
    "    'random_seed' : SEED,\n",
    "    'early_stopping_rounds' : 100,\n",
    "    'metric_period' : 100\n",
    "    }"
   ]
  },
  {
   "cell_type": "code",
   "execution_count": 10,
   "metadata": {},
   "outputs": [
    {
     "name": "stdout",
     "output_type": "stream",
     "text": [
      "fold 1 of 2\n",
      "Learning rate set to 0.084168\n",
      "0:\ttotal: 38.2ms\tremaining: 38.1s\n",
      "100:\ttotal: 3.59s\tremaining: 31.9s\n",
      "200:\ttotal: 7.14s\tremaining: 28.4s\n",
      "300:\ttotal: 10.7s\tremaining: 24.9s\n",
      "400:\ttotal: 14.4s\tremaining: 21.5s\n",
      "500:\ttotal: 18s\tremaining: 17.9s\n",
      "600:\ttotal: 21.6s\tremaining: 14.4s\n",
      "700:\ttotal: 25.3s\tremaining: 10.8s\n",
      "800:\ttotal: 29s\tremaining: 7.19s\n",
      "900:\ttotal: 32.6s\tremaining: 3.58s\n",
      "999:\ttotal: 36.2s\tremaining: 0us\n"
     ]
    },
    {
     "name": "stderr",
     "output_type": "stream",
     "text": [
      "Warning: Overfitting detector is active, thus evaluation metric is calculated on every iteration. 'metric_period' is ignored for evaluation metric.\n"
     ]
    },
    {
     "name": "stdout",
     "output_type": "stream",
     "text": [
      "CV OOF Score for fold 1 is 0.7688540564462246\n",
      "fold 2 of 2\n",
      "Learning rate set to 0.084169\n",
      "0:\ttotal: 41.7ms\tremaining: 41.7s\n",
      "100:\ttotal: 3.75s\tremaining: 33.4s\n",
      "200:\ttotal: 7.43s\tremaining: 29.5s\n",
      "300:\ttotal: 11s\tremaining: 25.7s\n",
      "400:\ttotal: 14.7s\tremaining: 21.9s\n",
      "500:\ttotal: 18.5s\tremaining: 18.4s\n",
      "600:\ttotal: 22.3s\tremaining: 14.8s\n",
      "700:\ttotal: 26.3s\tremaining: 11.2s\n",
      "800:\ttotal: 30s\tremaining: 7.45s\n",
      "900:\ttotal: 33.7s\tremaining: 3.7s\n",
      "999:\ttotal: 37.3s\tremaining: 0us\n"
     ]
    },
    {
     "name": "stderr",
     "output_type": "stream",
     "text": [
      "Warning: Overfitting detector is active, thus evaluation metric is calculated on every iteration. 'metric_period' is ignored for evaluation metric.\n"
     ]
    },
    {
     "name": "stdout",
     "output_type": "stream",
     "text": [
      "CV OOF Score for fold 2 is 0.7696758818752295\n",
      "Combined OOF score : 0.76926\n",
      "Average of 2 folds OOF score 0.76926\n",
      "std of 2 folds OOF score 0.00041\n"
     ]
    }
   ],
   "source": [
    "kf = StratifiedKFold(n_splits=2, random_state=SEED, shuffle=True)\n",
    "result_dict = utility.make_prediction_classification(train_X, train_Y, test_X, params=cat_params, kf=kf,\n",
    "                                                     seed=SEED, model_type='cat')"
   ]
  },
  {
   "cell_type": "code",
   "execution_count": 11,
   "metadata": {},
   "outputs": [
    {
     "data": {
      "text/plain": [
       "{'yoof': array([-2.04827069, -2.18061238, -0.841312  , ..., -1.86141851,\n",
       "        -1.50868357, -2.31627204]),\n",
       " 'prediction': array([-0.99878393, -1.11217076, -1.8411364 , ..., -0.62456026,\n",
       "        -1.25059632, -1.335044  ]),\n",
       " 'oof_score': 0.76926,\n",
       " 'cv_scores': [0.7688540564462246, 0.7696758818752295],\n",
       " 'avg_cv_scores': 0.76926,\n",
       " 'std_cv_scores': 0.00041}"
      ]
     },
     "execution_count": 11,
     "metadata": {},
     "output_type": "execute_result"
    }
   ],
   "source": [
    "result_dict"
   ]
  },
  {
   "cell_type": "code",
   "execution_count": null,
   "metadata": {},
   "outputs": [],
   "source": []
  },
  {
   "cell_type": "code",
   "execution_count": null,
   "metadata": {},
   "outputs": [],
   "source": []
  },
  {
   "cell_type": "code",
   "execution_count": null,
   "metadata": {},
   "outputs": [],
   "source": [
    "submission.head()"
   ]
  },
  {
   "cell_type": "code",
   "execution_count": null,
   "metadata": {},
   "outputs": [],
   "source": [
    "submission.target = result_dict['prediction']\n",
    "submission.to_csv('submission_1.csv', index=False)"
   ]
  },
  {
   "cell_type": "code",
   "execution_count": null,
   "metadata": {},
   "outputs": [],
   "source": [
    "submission.head()"
   ]
  },
  {
   "cell_type": "code",
   "execution_count": null,
   "metadata": {},
   "outputs": [],
   "source": [
    "# ! kaggle competitions submit -c cat-in-the-dat -f submission_1.csv -m \"Baseline solutions\""
   ]
  }
 ],
 "metadata": {
  "kernelspec": {
   "display_name": "py_37",
   "language": "python",
   "name": "py_37"
  },
  "language_info": {
   "codemirror_mode": {
    "name": "ipython",
    "version": 3
   },
   "file_extension": ".py",
   "mimetype": "text/x-python",
   "name": "python",
   "nbconvert_exporter": "python",
   "pygments_lexer": "ipython3",
   "version": "3.7.4"
  }
 },
 "nbformat": 4,
 "nbformat_minor": 4
}
