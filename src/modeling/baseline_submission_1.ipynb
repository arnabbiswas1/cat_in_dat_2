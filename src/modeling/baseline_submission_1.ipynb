{
 "cells": [
  {
   "cell_type": "markdown",
   "metadata": {},
   "source": [
    "### Baseline solution\n",
    "\n",
    "- Missing data is filled with outlier values like 'missing', 99 etc\n",
    "- Label Encoding of all the categorical variables\n",
    "- LGBM"
   ]
  },
  {
   "cell_type": "code",
   "execution_count": 1,
   "metadata": {},
   "outputs": [
    {
     "name": "stdout",
     "output_type": "stream",
     "text": [
      "Loading Data...\n",
      "Shape of train.csv : (600000, 24)\n",
      "Shape of test.csv : (400000, 23)\n",
      "Shape of sample_submission.csv : (400000, 2)\n",
      "Data Loaded...\n",
      "Shape of the combined DF (1000000, 23)\n",
      "Number of nominal features 10\n",
      "Nominal Features : ['nom_0', 'nom_1', 'nom_2', 'nom_3', 'nom_4', 'nom_5', 'nom_6', 'nom_7', 'nom_8', 'nom_9']\n",
      "Number of binary features 5\n",
      "Binary Features : ['bin_0', 'bin_1', 'bin_2', 'bin_3', 'bin_4']\n",
      "Number of ordinal features 6\n",
      "Ordinal Features : ['ord_0', 'ord_1', 'ord_2', 'ord_3', 'ord_4', 'ord_5']\n",
      "(600000, 23)\n",
      "(400000, 23)\n",
      "(600000,)\n"
     ]
    }
   ],
   "source": [
    "import sys\n",
    "\n",
    "import pandas as pd\n",
    "import numpy as np\n",
    "\n",
    "from sklearn.preprocessing import LabelEncoder\n",
    "\n",
    "sys.path.insert(0, \"/home/jupyter/kaggle/cat_in_dat_2/kaggle_cat_in_dat_2/src\")\n",
    "import utility\n",
    "\n",
    "DATA_DIR = '/home/jupyter/kaggle/cat_in_dat_2/kaggle_cat_in_dat_2/data/read_only'\n",
    "SEED = 42\n",
    "\n",
    "\n",
    "utility.set_seed(SEED)\n",
    "\n",
    "#Read the data file\n",
    "train, test, submission = utility.read_files(DATA_DIR, index_col='id')\n",
    "\n",
    "combined_df = pd.concat([train.drop('target', axis=1), test])\n",
    "print(f'Shape of the combined DF {combined_df.shape}')\n",
    "\n",
    "train_index = train.shape[0]\n",
    "\n",
    "# Fill the missing values\n",
    "nom_features = utility.get_fetaure_names(train, 'nom')\n",
    "print(f'Number of nominal features {len(nom_features)}')\n",
    "print(f'Nominal Features : {nom_features}')\n",
    "\n",
    "binary_features = utility.get_fetaure_names(train, 'bin')\n",
    "print(f'Number of binary features {len(binary_features)}')\n",
    "print(f'Binary Features : {binary_features}')\n",
    "\n",
    "ordinal_fetaures = utility.get_fetaure_names(train, 'ord')\n",
    "print(f'Number of ordinal features {len(ordinal_fetaures)}')\n",
    "print(f'Ordinal Features : {ordinal_fetaures}')\n",
    "\n",
    "# Filling nominal variables with missing values\n",
    "combined_df[nom_features] = combined_df[nom_features].fillna('missing_nom')\n",
    "# ord_0 has apparently value fo type integer. \n",
    "combined_df['ord_0'] = combined_df['ord_0'].fillna(99)\n",
    "# Fill missing values for other ordinal values\n",
    "combined_df[['ord_1', 'ord_2', 'ord_3', 'ord_4', 'ord_5']] = combined_df[['ord_1', 'ord_2', 'ord_3', 'ord_4', 'ord_5']].fillna('missing_ord')\n",
    "combined_df['day'] = combined_df['day'].fillna(99) \n",
    "combined_df['month'] = combined_df['month'].fillna(99)\n",
    "combined_df[['bin_3', 'bin_4']] = combined_df[['bin_3', 'bin_4']].fillna('missing_binary')\n",
    "combined_df[['bin_0', 'bin_1', 'bin_2']] = combined_df[['bin_0', 'bin_1', 'bin_2']].fillna(9)\n",
    "\n",
    "# Convert all the datatypes into category\n",
    "for name in combined_df.columns:\n",
    "    combined_df[name] = combined_df[name].astype('category')\n",
    "    \n",
    "for name in combined_df.columns:\n",
    "    lb = LabelEncoder()\n",
    "    combined_df[name] = lb.fit_transform(combined_df[name])\n",
    "    \n",
    "train_Y = train.target\n",
    "train_X = combined_df[:train_index]\n",
    "test_X = combined_df[train_index:]\n",
    "\n",
    "print(train_X.shape)\n",
    "print(test_X.shape)\n",
    "print(train_Y.shape)\n",
    "\n",
    "lgb_params = {\n",
    "    'objective':'binary',\n",
    "    'boosting_type':'gbdt',\n",
    "    'metric':'auc',\n",
    "    'n_jobs':-1,\n",
    "    'verbose':-1,\n",
    "    'seed': SEED,\n",
    "    'num_trees':10000,\n",
    "    'early_stopping_rounds':100,\n",
    "    }"
   ]
  },
  {
   "cell_type": "markdown",
   "metadata": {},
   "source": [
    "## 5 Folds Stratified"
   ]
  },
  {
   "cell_type": "code",
   "execution_count": 2,
   "metadata": {},
   "outputs": [
    {
     "name": "stdout",
     "output_type": "stream",
     "text": [
      "fold 1 of 5\n"
     ]
    },
    {
     "name": "stderr",
     "output_type": "stream",
     "text": [
      "/home/jupyter/anaconda3/envs/py37/lib/python3.7/site-packages/lightgbm/engine.py:148: UserWarning:\n",
      "\n",
      "Found `num_trees` in params. Will use it instead of argument\n",
      "\n",
      "/home/jupyter/anaconda3/envs/py37/lib/python3.7/site-packages/lightgbm/engine.py:153: UserWarning:\n",
      "\n",
      "Found `early_stopping_rounds` in params. Will use it instead of argument\n",
      "\n"
     ]
    },
    {
     "name": "stdout",
     "output_type": "stream",
     "text": [
      "Training until validation scores don't improve for 100 rounds\n",
      "[50]\ttraining's auc: 0.752872\tvalid_1's auc: 0.746997\n",
      "[100]\ttraining's auc: 0.766817\tvalid_1's auc: 0.758228\n",
      "[150]\ttraining's auc: 0.77573\tvalid_1's auc: 0.764322\n",
      "[200]\ttraining's auc: 0.782054\tvalid_1's auc: 0.76746\n",
      "[250]\ttraining's auc: 0.787363\tvalid_1's auc: 0.769147\n",
      "[300]\ttraining's auc: 0.791631\tvalid_1's auc: 0.769861\n",
      "[350]\ttraining's auc: 0.79581\tvalid_1's auc: 0.770528\n",
      "[400]\ttraining's auc: 0.799554\tvalid_1's auc: 0.770746\n",
      "[450]\ttraining's auc: 0.803446\tvalid_1's auc: 0.77096\n",
      "[500]\ttraining's auc: 0.80704\tvalid_1's auc: 0.770986\n",
      "[550]\ttraining's auc: 0.810387\tvalid_1's auc: 0.771003\n",
      "[600]\ttraining's auc: 0.813865\tvalid_1's auc: 0.77125\n",
      "[650]\ttraining's auc: 0.817067\tvalid_1's auc: 0.771284\n",
      "[700]\ttraining's auc: 0.820194\tvalid_1's auc: 0.771338\n",
      "Early stopping, best iteration is:\n",
      "[624]\ttraining's auc: 0.815426\tvalid_1's auc: 0.771383\n",
      "CV OOF Score for fold 1 is 0.77138314373759\n",
      "fold 2 of 5\n"
     ]
    },
    {
     "name": "stderr",
     "output_type": "stream",
     "text": [
      "/home/jupyter/anaconda3/envs/py37/lib/python3.7/site-packages/lightgbm/engine.py:148: UserWarning:\n",
      "\n",
      "Found `num_trees` in params. Will use it instead of argument\n",
      "\n",
      "/home/jupyter/anaconda3/envs/py37/lib/python3.7/site-packages/lightgbm/engine.py:153: UserWarning:\n",
      "\n",
      "Found `early_stopping_rounds` in params. Will use it instead of argument\n",
      "\n"
     ]
    },
    {
     "name": "stdout",
     "output_type": "stream",
     "text": [
      "Training until validation scores don't improve for 100 rounds\n",
      "[50]\ttraining's auc: 0.753036\tvalid_1's auc: 0.747343\n",
      "[100]\ttraining's auc: 0.767346\tvalid_1's auc: 0.758771\n",
      "[150]\ttraining's auc: 0.775843\tvalid_1's auc: 0.76458\n",
      "[200]\ttraining's auc: 0.78192\tvalid_1's auc: 0.767096\n",
      "[250]\ttraining's auc: 0.78726\tvalid_1's auc: 0.768671\n",
      "[300]\ttraining's auc: 0.791569\tvalid_1's auc: 0.769409\n",
      "[350]\ttraining's auc: 0.795797\tvalid_1's auc: 0.770009\n",
      "[400]\ttraining's auc: 0.799844\tvalid_1's auc: 0.770532\n",
      "[450]\ttraining's auc: 0.803655\tvalid_1's auc: 0.771067\n",
      "[500]\ttraining's auc: 0.807274\tvalid_1's auc: 0.771309\n",
      "[550]\ttraining's auc: 0.810747\tvalid_1's auc: 0.771398\n",
      "[600]\ttraining's auc: 0.814034\tvalid_1's auc: 0.771215\n",
      "Early stopping, best iteration is:\n",
      "[539]\ttraining's auc: 0.809985\tvalid_1's auc: 0.771432\n",
      "CV OOF Score for fold 2 is 0.7714319004102621\n",
      "fold 3 of 5\n"
     ]
    },
    {
     "name": "stderr",
     "output_type": "stream",
     "text": [
      "/home/jupyter/anaconda3/envs/py37/lib/python3.7/site-packages/lightgbm/engine.py:148: UserWarning:\n",
      "\n",
      "Found `num_trees` in params. Will use it instead of argument\n",
      "\n",
      "/home/jupyter/anaconda3/envs/py37/lib/python3.7/site-packages/lightgbm/engine.py:153: UserWarning:\n",
      "\n",
      "Found `early_stopping_rounds` in params. Will use it instead of argument\n",
      "\n"
     ]
    },
    {
     "name": "stdout",
     "output_type": "stream",
     "text": [
      "Training until validation scores don't improve for 100 rounds\n",
      "[50]\ttraining's auc: 0.75359\tvalid_1's auc: 0.742898\n",
      "[100]\ttraining's auc: 0.768322\tvalid_1's auc: 0.755093\n",
      "[150]\ttraining's auc: 0.77696\tvalid_1's auc: 0.761322\n",
      "[200]\ttraining's auc: 0.782808\tvalid_1's auc: 0.763824\n",
      "[250]\ttraining's auc: 0.787847\tvalid_1's auc: 0.76561\n",
      "[300]\ttraining's auc: 0.792367\tvalid_1's auc: 0.766581\n",
      "[350]\ttraining's auc: 0.796585\tvalid_1's auc: 0.767592\n",
      "[400]\ttraining's auc: 0.800289\tvalid_1's auc: 0.767578\n",
      "[450]\ttraining's auc: 0.803988\tvalid_1's auc: 0.76796\n",
      "[500]\ttraining's auc: 0.807432\tvalid_1's auc: 0.768171\n",
      "[550]\ttraining's auc: 0.810975\tvalid_1's auc: 0.768419\n",
      "[600]\ttraining's auc: 0.814297\tvalid_1's auc: 0.768448\n",
      "[650]\ttraining's auc: 0.817497\tvalid_1's auc: 0.768566\n",
      "[700]\ttraining's auc: 0.820701\tvalid_1's auc: 0.768516\n",
      "[750]\ttraining's auc: 0.82384\tvalid_1's auc: 0.76851\n",
      "[800]\ttraining's auc: 0.826811\tvalid_1's auc: 0.768438\n",
      "Early stopping, best iteration is:\n",
      "[728]\ttraining's auc: 0.822485\tvalid_1's auc: 0.768593\n",
      "CV OOF Score for fold 3 is 0.7685925296483993\n",
      "fold 4 of 5\n"
     ]
    },
    {
     "name": "stderr",
     "output_type": "stream",
     "text": [
      "/home/jupyter/anaconda3/envs/py37/lib/python3.7/site-packages/lightgbm/engine.py:148: UserWarning:\n",
      "\n",
      "Found `num_trees` in params. Will use it instead of argument\n",
      "\n",
      "/home/jupyter/anaconda3/envs/py37/lib/python3.7/site-packages/lightgbm/engine.py:153: UserWarning:\n",
      "\n",
      "Found `early_stopping_rounds` in params. Will use it instead of argument\n",
      "\n"
     ]
    },
    {
     "name": "stdout",
     "output_type": "stream",
     "text": [
      "Training until validation scores don't improve for 100 rounds\n",
      "[50]\ttraining's auc: 0.752602\tvalid_1's auc: 0.747662\n",
      "[100]\ttraining's auc: 0.765767\tvalid_1's auc: 0.757815\n",
      "[150]\ttraining's auc: 0.775159\tvalid_1's auc: 0.764495\n",
      "[200]\ttraining's auc: 0.781419\tvalid_1's auc: 0.767529\n",
      "[250]\ttraining's auc: 0.786812\tvalid_1's auc: 0.769616\n",
      "[300]\ttraining's auc: 0.791335\tvalid_1's auc: 0.770759\n",
      "[350]\ttraining's auc: 0.795443\tvalid_1's auc: 0.771272\n",
      "[400]\ttraining's auc: 0.799178\tvalid_1's auc: 0.771492\n",
      "[450]\ttraining's auc: 0.802921\tvalid_1's auc: 0.771652\n",
      "[500]\ttraining's auc: 0.806569\tvalid_1's auc: 0.772041\n",
      "[550]\ttraining's auc: 0.810261\tvalid_1's auc: 0.772586\n",
      "[600]\ttraining's auc: 0.813473\tvalid_1's auc: 0.77244\n",
      "[650]\ttraining's auc: 0.816749\tvalid_1's auc: 0.772717\n",
      "[700]\ttraining's auc: 0.819821\tvalid_1's auc: 0.772621\n",
      "[750]\ttraining's auc: 0.82306\tvalid_1's auc: 0.772628\n",
      "Early stopping, best iteration is:\n",
      "[653]\ttraining's auc: 0.816954\tvalid_1's auc: 0.772754\n",
      "CV OOF Score for fold 4 is 0.772753889063419\n",
      "fold 5 of 5\n"
     ]
    },
    {
     "name": "stderr",
     "output_type": "stream",
     "text": [
      "/home/jupyter/anaconda3/envs/py37/lib/python3.7/site-packages/lightgbm/engine.py:148: UserWarning:\n",
      "\n",
      "Found `num_trees` in params. Will use it instead of argument\n",
      "\n",
      "/home/jupyter/anaconda3/envs/py37/lib/python3.7/site-packages/lightgbm/engine.py:153: UserWarning:\n",
      "\n",
      "Found `early_stopping_rounds` in params. Will use it instead of argument\n",
      "\n"
     ]
    },
    {
     "name": "stdout",
     "output_type": "stream",
     "text": [
      "Training until validation scores don't improve for 100 rounds\n",
      "[50]\ttraining's auc: 0.751895\tvalid_1's auc: 0.750255\n",
      "[100]\ttraining's auc: 0.765501\tvalid_1's auc: 0.761657\n",
      "[150]\ttraining's auc: 0.775143\tvalid_1's auc: 0.76858\n",
      "[200]\ttraining's auc: 0.781781\tvalid_1's auc: 0.77196\n",
      "[250]\ttraining's auc: 0.78651\tvalid_1's auc: 0.772959\n",
      "[300]\ttraining's auc: 0.790923\tvalid_1's auc: 0.773781\n",
      "[350]\ttraining's auc: 0.795098\tvalid_1's auc: 0.774132\n",
      "[400]\ttraining's auc: 0.79897\tvalid_1's auc: 0.774519\n",
      "[450]\ttraining's auc: 0.80271\tvalid_1's auc: 0.774928\n",
      "[500]\ttraining's auc: 0.80624\tvalid_1's auc: 0.774939\n",
      "[550]\ttraining's auc: 0.809541\tvalid_1's auc: 0.775034\n",
      "[600]\ttraining's auc: 0.812842\tvalid_1's auc: 0.775008\n",
      "[650]\ttraining's auc: 0.816161\tvalid_1's auc: 0.775134\n",
      "[700]\ttraining's auc: 0.819306\tvalid_1's auc: 0.775\n",
      "Early stopping, best iteration is:\n",
      "[609]\ttraining's auc: 0.813532\tvalid_1's auc: 0.77519\n",
      "CV OOF Score for fold 5 is 0.7751897836695921\n",
      "Combined OOF score : 0.77186\n",
      "Average of 5 folds OOF score 0.77187\n",
      "std of 5 folds OOF score 0.00214\n"
     ]
    }
   ],
   "source": [
    "result_dict = utility.make_prediction(train_X, train_Y, test_X, params=lgb_params, n_splits=5, seed=SEED)"
   ]
  },
  {
   "cell_type": "markdown",
   "metadata": {},
   "source": [
    "## 10 Folds Stratified"
   ]
  },
  {
   "cell_type": "code",
   "execution_count": 4,
   "metadata": {},
   "outputs": [
    {
     "name": "stdout",
     "output_type": "stream",
     "text": [
      "fold 1 of 10\n"
     ]
    },
    {
     "name": "stderr",
     "output_type": "stream",
     "text": [
      "/home/jupyter/anaconda3/envs/py37/lib/python3.7/site-packages/lightgbm/engine.py:148: UserWarning:\n",
      "\n",
      "Found `num_trees` in params. Will use it instead of argument\n",
      "\n",
      "/home/jupyter/anaconda3/envs/py37/lib/python3.7/site-packages/lightgbm/engine.py:153: UserWarning:\n",
      "\n",
      "Found `early_stopping_rounds` in params. Will use it instead of argument\n",
      "\n"
     ]
    },
    {
     "name": "stdout",
     "output_type": "stream",
     "text": [
      "Training until validation scores don't improve for 100 rounds\n",
      "[50]\ttraining's auc: 0.752405\tvalid_1's auc: 0.745551\n",
      "[100]\ttraining's auc: 0.765956\tvalid_1's auc: 0.757162\n",
      "[150]\ttraining's auc: 0.774735\tvalid_1's auc: 0.763724\n",
      "[200]\ttraining's auc: 0.780904\tvalid_1's auc: 0.767034\n",
      "[250]\ttraining's auc: 0.785686\tvalid_1's auc: 0.768623\n",
      "[300]\ttraining's auc: 0.789869\tvalid_1's auc: 0.76967\n",
      "[350]\ttraining's auc: 0.793841\tvalid_1's auc: 0.770547\n",
      "[400]\ttraining's auc: 0.797318\tvalid_1's auc: 0.770736\n",
      "[450]\ttraining's auc: 0.800745\tvalid_1's auc: 0.771197\n",
      "[500]\ttraining's auc: 0.803925\tvalid_1's auc: 0.771184\n",
      "[550]\ttraining's auc: 0.807129\tvalid_1's auc: 0.771226\n",
      "Early stopping, best iteration is:\n",
      "[456]\ttraining's auc: 0.801155\tvalid_1's auc: 0.771377\n",
      "CV OOF Score for fold 1 is 0.7713773403548505\n",
      "fold 2 of 10\n"
     ]
    },
    {
     "name": "stderr",
     "output_type": "stream",
     "text": [
      "/home/jupyter/anaconda3/envs/py37/lib/python3.7/site-packages/lightgbm/engine.py:148: UserWarning:\n",
      "\n",
      "Found `num_trees` in params. Will use it instead of argument\n",
      "\n",
      "/home/jupyter/anaconda3/envs/py37/lib/python3.7/site-packages/lightgbm/engine.py:153: UserWarning:\n",
      "\n",
      "Found `early_stopping_rounds` in params. Will use it instead of argument\n",
      "\n"
     ]
    },
    {
     "name": "stdout",
     "output_type": "stream",
     "text": [
      "Training until validation scores don't improve for 100 rounds\n",
      "[50]\ttraining's auc: 0.752333\tvalid_1's auc: 0.74862\n",
      "[100]\ttraining's auc: 0.766344\tvalid_1's auc: 0.759875\n",
      "[150]\ttraining's auc: 0.774467\tvalid_1's auc: 0.765279\n",
      "[200]\ttraining's auc: 0.780352\tvalid_1's auc: 0.768324\n",
      "[250]\ttraining's auc: 0.784668\tvalid_1's auc: 0.769347\n",
      "[300]\ttraining's auc: 0.789331\tvalid_1's auc: 0.770981\n",
      "[350]\ttraining's auc: 0.79314\tvalid_1's auc: 0.771697\n",
      "[400]\ttraining's auc: 0.796875\tvalid_1's auc: 0.772293\n",
      "[450]\ttraining's auc: 0.800222\tvalid_1's auc: 0.772474\n",
      "[500]\ttraining's auc: 0.803583\tvalid_1's auc: 0.772639\n",
      "[550]\ttraining's auc: 0.806656\tvalid_1's auc: 0.772607\n",
      "[600]\ttraining's auc: 0.809751\tvalid_1's auc: 0.772681\n",
      "[650]\ttraining's auc: 0.812768\tvalid_1's auc: 0.77277\n",
      "[700]\ttraining's auc: 0.815582\tvalid_1's auc: 0.772704\n",
      "[750]\ttraining's auc: 0.818505\tvalid_1's auc: 0.772653\n",
      "Early stopping, best iteration is:\n",
      "[658]\ttraining's auc: 0.813206\tvalid_1's auc: 0.772816\n",
      "CV OOF Score for fold 2 is 0.7728161725078643\n",
      "fold 3 of 10\n"
     ]
    },
    {
     "name": "stderr",
     "output_type": "stream",
     "text": [
      "/home/jupyter/anaconda3/envs/py37/lib/python3.7/site-packages/lightgbm/engine.py:148: UserWarning:\n",
      "\n",
      "Found `num_trees` in params. Will use it instead of argument\n",
      "\n",
      "/home/jupyter/anaconda3/envs/py37/lib/python3.7/site-packages/lightgbm/engine.py:153: UserWarning:\n",
      "\n",
      "Found `early_stopping_rounds` in params. Will use it instead of argument\n",
      "\n"
     ]
    },
    {
     "name": "stdout",
     "output_type": "stream",
     "text": [
      "Training until validation scores don't improve for 100 rounds\n",
      "[50]\ttraining's auc: 0.752342\tvalid_1's auc: 0.746467\n",
      "[100]\ttraining's auc: 0.766133\tvalid_1's auc: 0.758628\n",
      "[150]\ttraining's auc: 0.774748\tvalid_1's auc: 0.764801\n",
      "[200]\ttraining's auc: 0.7803\tvalid_1's auc: 0.767415\n",
      "[250]\ttraining's auc: 0.78536\tvalid_1's auc: 0.769582\n",
      "[300]\ttraining's auc: 0.789876\tvalid_1's auc: 0.770881\n",
      "[350]\ttraining's auc: 0.793554\tvalid_1's auc: 0.771503\n",
      "[400]\ttraining's auc: 0.797117\tvalid_1's auc: 0.772118\n",
      "[450]\ttraining's auc: 0.80063\tvalid_1's auc: 0.77241\n",
      "[500]\ttraining's auc: 0.804011\tvalid_1's auc: 0.772593\n",
      "[550]\ttraining's auc: 0.807146\tvalid_1's auc: 0.772563\n",
      "[600]\ttraining's auc: 0.810121\tvalid_1's auc: 0.772536\n",
      "[650]\ttraining's auc: 0.81305\tvalid_1's auc: 0.7728\n",
      "[700]\ttraining's auc: 0.815963\tvalid_1's auc: 0.772694\n",
      "[750]\ttraining's auc: 0.818833\tvalid_1's auc: 0.772956\n",
      "[800]\ttraining's auc: 0.821586\tvalid_1's auc: 0.772907\n",
      "[850]\ttraining's auc: 0.824329\tvalid_1's auc: 0.772819\n",
      "Early stopping, best iteration is:\n",
      "[761]\ttraining's auc: 0.819473\tvalid_1's auc: 0.772982\n",
      "CV OOF Score for fold 3 is 0.7729821239204743\n",
      "fold 4 of 10\n"
     ]
    },
    {
     "name": "stderr",
     "output_type": "stream",
     "text": [
      "/home/jupyter/anaconda3/envs/py37/lib/python3.7/site-packages/lightgbm/engine.py:148: UserWarning:\n",
      "\n",
      "Found `num_trees` in params. Will use it instead of argument\n",
      "\n",
      "/home/jupyter/anaconda3/envs/py37/lib/python3.7/site-packages/lightgbm/engine.py:153: UserWarning:\n",
      "\n",
      "Found `early_stopping_rounds` in params. Will use it instead of argument\n",
      "\n"
     ]
    },
    {
     "name": "stdout",
     "output_type": "stream",
     "text": [
      "Training until validation scores don't improve for 100 rounds\n",
      "[50]\ttraining's auc: 0.752296\tvalid_1's auc: 0.748307\n",
      "[100]\ttraining's auc: 0.765623\tvalid_1's auc: 0.758661\n",
      "[150]\ttraining's auc: 0.774892\tvalid_1's auc: 0.765363\n",
      "[200]\ttraining's auc: 0.780695\tvalid_1's auc: 0.767853\n",
      "[250]\ttraining's auc: 0.785313\tvalid_1's auc: 0.769246\n",
      "[300]\ttraining's auc: 0.789717\tvalid_1's auc: 0.770298\n",
      "[350]\ttraining's auc: 0.793561\tvalid_1's auc: 0.770949\n",
      "[400]\ttraining's auc: 0.797215\tvalid_1's auc: 0.771513\n",
      "[450]\ttraining's auc: 0.800628\tvalid_1's auc: 0.771847\n",
      "[500]\ttraining's auc: 0.803785\tvalid_1's auc: 0.772157\n",
      "[550]\ttraining's auc: 0.806975\tvalid_1's auc: 0.772128\n",
      "[600]\ttraining's auc: 0.810003\tvalid_1's auc: 0.771994\n",
      "Early stopping, best iteration is:\n",
      "[523]\ttraining's auc: 0.805315\tvalid_1's auc: 0.772342\n",
      "CV OOF Score for fold 4 is 0.7723419150430715\n",
      "fold 5 of 10\n"
     ]
    },
    {
     "name": "stderr",
     "output_type": "stream",
     "text": [
      "/home/jupyter/anaconda3/envs/py37/lib/python3.7/site-packages/lightgbm/engine.py:148: UserWarning:\n",
      "\n",
      "Found `num_trees` in params. Will use it instead of argument\n",
      "\n",
      "/home/jupyter/anaconda3/envs/py37/lib/python3.7/site-packages/lightgbm/engine.py:153: UserWarning:\n",
      "\n",
      "Found `early_stopping_rounds` in params. Will use it instead of argument\n",
      "\n"
     ]
    },
    {
     "name": "stdout",
     "output_type": "stream",
     "text": [
      "Training until validation scores don't improve for 100 rounds\n",
      "[50]\ttraining's auc: 0.752445\tvalid_1's auc: 0.74363\n",
      "[100]\ttraining's auc: 0.765904\tvalid_1's auc: 0.755277\n",
      "[150]\ttraining's auc: 0.775028\tvalid_1's auc: 0.762165\n",
      "[200]\ttraining's auc: 0.781047\tvalid_1's auc: 0.765707\n",
      "[250]\ttraining's auc: 0.785884\tvalid_1's auc: 0.767905\n",
      "[300]\ttraining's auc: 0.789639\tvalid_1's auc: 0.768347\n",
      "[350]\ttraining's auc: 0.793554\tvalid_1's auc: 0.769228\n",
      "[400]\ttraining's auc: 0.797096\tvalid_1's auc: 0.769644\n",
      "[450]\ttraining's auc: 0.800411\tvalid_1's auc: 0.769899\n",
      "[500]\ttraining's auc: 0.80356\tvalid_1's auc: 0.769972\n",
      "[550]\ttraining's auc: 0.806784\tvalid_1's auc: 0.770427\n",
      "[600]\ttraining's auc: 0.809942\tvalid_1's auc: 0.770331\n",
      "Early stopping, best iteration is:\n",
      "[542]\ttraining's auc: 0.806291\tvalid_1's auc: 0.770515\n",
      "CV OOF Score for fold 5 is 0.7705146220245773\n",
      "fold 6 of 10\n"
     ]
    },
    {
     "name": "stderr",
     "output_type": "stream",
     "text": [
      "/home/jupyter/anaconda3/envs/py37/lib/python3.7/site-packages/lightgbm/engine.py:148: UserWarning:\n",
      "\n",
      "Found `num_trees` in params. Will use it instead of argument\n",
      "\n",
      "/home/jupyter/anaconda3/envs/py37/lib/python3.7/site-packages/lightgbm/engine.py:153: UserWarning:\n",
      "\n",
      "Found `early_stopping_rounds` in params. Will use it instead of argument\n",
      "\n"
     ]
    },
    {
     "name": "stdout",
     "output_type": "stream",
     "text": [
      "Training until validation scores don't improve for 100 rounds\n",
      "[50]\ttraining's auc: 0.75268\tvalid_1's auc: 0.741418\n",
      "[100]\ttraining's auc: 0.766339\tvalid_1's auc: 0.753064\n",
      "[150]\ttraining's auc: 0.774816\tvalid_1's auc: 0.759227\n",
      "[200]\ttraining's auc: 0.781067\tvalid_1's auc: 0.762922\n",
      "[250]\ttraining's auc: 0.785689\tvalid_1's auc: 0.764397\n",
      "[300]\ttraining's auc: 0.789904\tvalid_1's auc: 0.765882\n",
      "[350]\ttraining's auc: 0.793724\tvalid_1's auc: 0.766521\n",
      "[400]\ttraining's auc: 0.797265\tvalid_1's auc: 0.766939\n",
      "[450]\ttraining's auc: 0.800752\tvalid_1's auc: 0.767165\n",
      "[500]\ttraining's auc: 0.803853\tvalid_1's auc: 0.767217\n",
      "[550]\ttraining's auc: 0.807079\tvalid_1's auc: 0.767458\n",
      "[600]\ttraining's auc: 0.81004\tvalid_1's auc: 0.767494\n",
      "[650]\ttraining's auc: 0.813053\tvalid_1's auc: 0.767496\n",
      "Early stopping, best iteration is:\n",
      "[589]\ttraining's auc: 0.80939\tvalid_1's auc: 0.767588\n",
      "CV OOF Score for fold 6 is 0.7675882991234502\n",
      "fold 7 of 10\n"
     ]
    },
    {
     "name": "stderr",
     "output_type": "stream",
     "text": [
      "/home/jupyter/anaconda3/envs/py37/lib/python3.7/site-packages/lightgbm/engine.py:148: UserWarning:\n",
      "\n",
      "Found `num_trees` in params. Will use it instead of argument\n",
      "\n",
      "/home/jupyter/anaconda3/envs/py37/lib/python3.7/site-packages/lightgbm/engine.py:153: UserWarning:\n",
      "\n",
      "Found `early_stopping_rounds` in params. Will use it instead of argument\n",
      "\n"
     ]
    },
    {
     "name": "stdout",
     "output_type": "stream",
     "text": [
      "Training until validation scores don't improve for 100 rounds\n",
      "[50]\ttraining's auc: 0.752112\tvalid_1's auc: 0.747814\n",
      "[100]\ttraining's auc: 0.765821\tvalid_1's auc: 0.758949\n",
      "[150]\ttraining's auc: 0.774433\tvalid_1's auc: 0.76533\n",
      "[200]\ttraining's auc: 0.780643\tvalid_1's auc: 0.768549\n",
      "[250]\ttraining's auc: 0.785064\tvalid_1's auc: 0.76995\n",
      "[300]\ttraining's auc: 0.789235\tvalid_1's auc: 0.771123\n",
      "[350]\ttraining's auc: 0.793121\tvalid_1's auc: 0.772017\n",
      "[400]\ttraining's auc: 0.79668\tvalid_1's auc: 0.772626\n",
      "[450]\ttraining's auc: 0.800186\tvalid_1's auc: 0.77306\n",
      "[500]\ttraining's auc: 0.803427\tvalid_1's auc: 0.773274\n",
      "[550]\ttraining's auc: 0.806555\tvalid_1's auc: 0.7732\n",
      "[600]\ttraining's auc: 0.809716\tvalid_1's auc: 0.773572\n",
      "[650]\ttraining's auc: 0.812685\tvalid_1's auc: 0.773546\n",
      "[700]\ttraining's auc: 0.815496\tvalid_1's auc: 0.773596\n",
      "[750]\ttraining's auc: 0.818298\tvalid_1's auc: 0.773595\n",
      "[800]\ttraining's auc: 0.821089\tvalid_1's auc: 0.773718\n",
      "[850]\ttraining's auc: 0.823722\tvalid_1's auc: 0.773603\n",
      "[900]\ttraining's auc: 0.826255\tvalid_1's auc: 0.773762\n",
      "Early stopping, best iteration is:\n",
      "[813]\ttraining's auc: 0.821792\tvalid_1's auc: 0.773807\n",
      "CV OOF Score for fold 7 is 0.7738066638613617\n",
      "fold 8 of 10\n"
     ]
    },
    {
     "name": "stderr",
     "output_type": "stream",
     "text": [
      "/home/jupyter/anaconda3/envs/py37/lib/python3.7/site-packages/lightgbm/engine.py:148: UserWarning:\n",
      "\n",
      "Found `num_trees` in params. Will use it instead of argument\n",
      "\n",
      "/home/jupyter/anaconda3/envs/py37/lib/python3.7/site-packages/lightgbm/engine.py:153: UserWarning:\n",
      "\n",
      "Found `early_stopping_rounds` in params. Will use it instead of argument\n",
      "\n"
     ]
    },
    {
     "name": "stdout",
     "output_type": "stream",
     "text": [
      "Training until validation scores don't improve for 100 rounds\n",
      "[50]\ttraining's auc: 0.752079\tvalid_1's auc: 0.747101\n",
      "[100]\ttraining's auc: 0.76623\tvalid_1's auc: 0.758924\n",
      "[150]\ttraining's auc: 0.774194\tvalid_1's auc: 0.764747\n",
      "[200]\ttraining's auc: 0.780051\tvalid_1's auc: 0.767921\n",
      "[250]\ttraining's auc: 0.784947\tvalid_1's auc: 0.76973\n",
      "[300]\ttraining's auc: 0.789026\tvalid_1's auc: 0.770845\n",
      "[350]\ttraining's auc: 0.792641\tvalid_1's auc: 0.77128\n",
      "[400]\ttraining's auc: 0.796186\tvalid_1's auc: 0.771626\n",
      "[450]\ttraining's auc: 0.799848\tvalid_1's auc: 0.772245\n",
      "[500]\ttraining's auc: 0.803033\tvalid_1's auc: 0.772399\n",
      "[550]\ttraining's auc: 0.806172\tvalid_1's auc: 0.772648\n",
      "[600]\ttraining's auc: 0.809197\tvalid_1's auc: 0.772698\n",
      "[650]\ttraining's auc: 0.812194\tvalid_1's auc: 0.772839\n",
      "[700]\ttraining's auc: 0.815135\tvalid_1's auc: 0.772774\n",
      "[750]\ttraining's auc: 0.817991\tvalid_1's auc: 0.772925\n",
      "[800]\ttraining's auc: 0.820737\tvalid_1's auc: 0.772742\n",
      "Early stopping, best iteration is:\n",
      "[749]\ttraining's auc: 0.817934\tvalid_1's auc: 0.772931\n",
      "CV OOF Score for fold 8 is 0.7729313580151493\n",
      "fold 9 of 10\n"
     ]
    },
    {
     "name": "stderr",
     "output_type": "stream",
     "text": [
      "/home/jupyter/anaconda3/envs/py37/lib/python3.7/site-packages/lightgbm/engine.py:148: UserWarning:\n",
      "\n",
      "Found `num_trees` in params. Will use it instead of argument\n",
      "\n",
      "/home/jupyter/anaconda3/envs/py37/lib/python3.7/site-packages/lightgbm/engine.py:153: UserWarning:\n",
      "\n",
      "Found `early_stopping_rounds` in params. Will use it instead of argument\n",
      "\n"
     ]
    },
    {
     "name": "stdout",
     "output_type": "stream",
     "text": [
      "Training until validation scores don't improve for 100 rounds\n",
      "[50]\ttraining's auc: 0.752148\tvalid_1's auc: 0.75044\n",
      "[100]\ttraining's auc: 0.765837\tvalid_1's auc: 0.76185\n",
      "[150]\ttraining's auc: 0.774332\tvalid_1's auc: 0.767492\n",
      "[200]\ttraining's auc: 0.780473\tvalid_1's auc: 0.77068\n",
      "[250]\ttraining's auc: 0.785298\tvalid_1's auc: 0.772153\n",
      "[300]\ttraining's auc: 0.789493\tvalid_1's auc: 0.77318\n",
      "[350]\ttraining's auc: 0.793295\tvalid_1's auc: 0.773714\n",
      "[400]\ttraining's auc: 0.796827\tvalid_1's auc: 0.773981\n",
      "[450]\ttraining's auc: 0.800155\tvalid_1's auc: 0.774106\n",
      "[500]\ttraining's auc: 0.803487\tvalid_1's auc: 0.77422\n",
      "[550]\ttraining's auc: 0.806705\tvalid_1's auc: 0.774255\n",
      "[600]\ttraining's auc: 0.809676\tvalid_1's auc: 0.774078\n",
      "Early stopping, best iteration is:\n",
      "[528]\ttraining's auc: 0.805361\tvalid_1's auc: 0.774312\n",
      "CV OOF Score for fold 9 is 0.774311543678508\n",
      "fold 10 of 10\n"
     ]
    },
    {
     "name": "stderr",
     "output_type": "stream",
     "text": [
      "/home/jupyter/anaconda3/envs/py37/lib/python3.7/site-packages/lightgbm/engine.py:148: UserWarning:\n",
      "\n",
      "Found `num_trees` in params. Will use it instead of argument\n",
      "\n",
      "/home/jupyter/anaconda3/envs/py37/lib/python3.7/site-packages/lightgbm/engine.py:153: UserWarning:\n",
      "\n",
      "Found `early_stopping_rounds` in params. Will use it instead of argument\n",
      "\n"
     ]
    },
    {
     "name": "stdout",
     "output_type": "stream",
     "text": [
      "Training until validation scores don't improve for 100 rounds\n",
      "[50]\ttraining's auc: 0.751989\tvalid_1's auc: 0.75028\n",
      "[100]\ttraining's auc: 0.766454\tvalid_1's auc: 0.76312\n",
      "[150]\ttraining's auc: 0.774022\tvalid_1's auc: 0.768548\n",
      "[200]\ttraining's auc: 0.780636\tvalid_1's auc: 0.772335\n",
      "[250]\ttraining's auc: 0.785016\tvalid_1's auc: 0.773496\n",
      "[300]\ttraining's auc: 0.789442\tvalid_1's auc: 0.774891\n",
      "[350]\ttraining's auc: 0.79321\tvalid_1's auc: 0.775138\n",
      "[400]\ttraining's auc: 0.796805\tvalid_1's auc: 0.775541\n",
      "[450]\ttraining's auc: 0.80017\tvalid_1's auc: 0.775881\n",
      "[500]\ttraining's auc: 0.803407\tvalid_1's auc: 0.775875\n",
      "[550]\ttraining's auc: 0.806603\tvalid_1's auc: 0.775976\n",
      "[600]\ttraining's auc: 0.809645\tvalid_1's auc: 0.775942\n",
      "[650]\ttraining's auc: 0.812737\tvalid_1's auc: 0.775882\n",
      "Early stopping, best iteration is:\n",
      "[565]\ttraining's auc: 0.80755\tvalid_1's auc: 0.776092\n",
      "CV OOF Score for fold 10 is 0.7760915132261278\n",
      "Combined OOF score : 0.77247\n",
      "Average of 10 folds OOF score 0.77248\n",
      "std of 10 folds OOF score 0.00219\n"
     ]
    }
   ],
   "source": [
    "result_dict = utility.make_prediction(train_X, train_Y, test_X, params=lgb_params, n_splits=10, seed=SEED)"
   ]
  },
  {
   "cell_type": "code",
   "execution_count": null,
   "metadata": {},
   "outputs": [],
   "source": [
    "submission.head()"
   ]
  },
  {
   "cell_type": "code",
   "execution_count": null,
   "metadata": {},
   "outputs": [],
   "source": [
    "submission.target = result_dict['prediction']\n",
    "submission.to_csv('submission_1.csv', index=False)"
   ]
  },
  {
   "cell_type": "code",
   "execution_count": null,
   "metadata": {},
   "outputs": [],
   "source": [
    "submission.head()"
   ]
  },
  {
   "cell_type": "code",
   "execution_count": null,
   "metadata": {},
   "outputs": [],
   "source": [
    "# ! kaggle competitions submit -c cat-in-the-dat -f submission_1.csv -m \"Baseline solutions\""
   ]
  }
 ],
 "metadata": {
  "kernelspec": {
   "display_name": "py_37",
   "language": "python",
   "name": "py_37"
  },
  "language_info": {
   "codemirror_mode": {
    "name": "ipython",
    "version": 3
   },
   "file_extension": ".py",
   "mimetype": "text/x-python",
   "name": "python",
   "nbconvert_exporter": "python",
   "pygments_lexer": "ipython3",
   "version": "3.7.4"
  }
 },
 "nbformat": 4,
 "nbformat_minor": 4
}
