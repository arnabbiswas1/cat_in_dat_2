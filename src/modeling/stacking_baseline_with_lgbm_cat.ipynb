{
 "cells": [
  {
   "cell_type": "code",
   "execution_count": null,
   "metadata": {},
   "outputs": [],
   "source": [
    "This model seems to be worst than the second submission\n",
    "\n",
    "- LB\n",
    "    - Submssion 2 (Pure Cat) : 0.78435\n",
    "    - Sumssion 3 (This stacker) : 0.78392"
   ]
  },
  {
   "cell_type": "markdown",
   "metadata": {},
   "source": [
    "Code Source : [https://www.kaggle.com/hhstrand/oof-stacking-regime]\n",
    "\n",
    "- First stacking (30th Jan 2019)\n",
    "- It uses two best scoring kernels so far\n",
    "    - LGBM (0.7726) : lgbm_baseline_with_ordered_ordinal_0123_1352_0.7726\n",
    "    - CatBoost (0.7854) : cat_baseline_with_ordered_ordinal_use_cat_feature_0123_1455_0.7854\n",
    "\n",
    "- In the notebok (stacking_baseline_with_lgbm_cat.ipynb), I have tried\n",
    "two types of models, LGBM and XGB as the predictors of the second round. Based on the CV score\n",
    "finally I have selected the XGB.\n",
    "\n",
    "- Details\n",
    "    - Level 1 Predictors (LGBM, CatBoost)\n",
    "    - Level 2 Predictor (XGB)"
   ]
  },
  {
   "cell_type": "code",
   "execution_count": 2,
   "metadata": {},
   "outputs": [],
   "source": [
    "import sys\n",
    "\n",
    "import pandas as pd\n",
    "import numpy as np\n",
    "import lightgbm as lgb\n",
    "import xgboost as xgb\n",
    "\n",
    "sys.path.insert(0, \"/home/jupyter/kaggle/cat_in_dat_2_git/cat_in_dat_2/src\")\n",
    "import utility"
   ]
  },
  {
   "cell_type": "markdown",
   "metadata": {},
   "source": [
    "## Get the Data"
   ]
  },
  {
   "cell_type": "code",
   "execution_count": 3,
   "metadata": {},
   "outputs": [
    {
     "name": "stdout",
     "output_type": "stream",
     "text": [
      "(600000, 24) (400000, 23) (400000, 2)\n",
      "Shape fo the OOF data (600000, 1), (600000, 1)\n",
      "Shape fo the Prediction data (400000, 2), (400000, 2)\n",
      "Shape fo the OOF DF (600000, 2)\n",
      "Shape fo the Prediction DF (400000, 3)\n"
     ]
    }
   ],
   "source": [
    "SUBMISSION_DIR = '../../sub'\n",
    "OOF_DIR = '../../oof'\n",
    "\n",
    "# Load the original train/test data\n",
    "dir_path = '/home/jupyter/kaggle/cat_in_dat_2_git/cat_in_dat_2/data/read_only'\n",
    "SEED = 42\n",
    "train_file_name = 'train.csv'\n",
    "test_file_name = 'test.csv'\n",
    "submission_file_name = 'sample_submission.csv'\n",
    "index_col = 'id'\n",
    "\n",
    "train = pd.read_csv(f'{dir_path}/{train_file_name}', index_col=index_col)\n",
    "test = pd.read_csv(f'{dir_path}/{test_file_name}', index_col=index_col)\n",
    "submission = pd.read_csv(f'{dir_path}/{submission_file_name}')\n",
    "\n",
    "print(train.shape, test.shape, submission.shape)\n",
    "\n",
    "# Load the OOF data\n",
    "oof_lgbm = pd.read_csv(f'{OOF_DIR}/oof_lgbm_baseline_with_ordered_ordinal_0123_1352_0.7726.csv')\n",
    "oof_cat = pd.read_csv(f'{OOF_DIR}/oof_cat_baseline_with_ordered_ordinal_use_cat_feature_0123_1455_0.7854.csv')\n",
    "\n",
    "# Load the prediction data\n",
    "prediction_lgbm = pd.read_csv(f'{SUBMISSION_DIR}/sub_lgbm_baseline_with_ordered_ordinal_0123_1352_0.7726.csv')\n",
    "prediction_cat = pd.read_csv(f'{SUBMISSION_DIR}/sub_cat_baseline_with_ordered_ordinal_use_cat_feature_0123_1455_0.7854.csv')\n",
    "\n",
    "print(f'Shape fo the OOF data {oof_lgbm.shape}, {oof_cat.shape}') \n",
    "print(f'Shape fo the Prediction data {prediction_lgbm.shape}, {prediction_cat.shape}')\n",
    "\n",
    "# Create oof DF\n",
    "oof_df = pd.concat([oof_lgbm, oof_cat], axis=1)\n",
    "oof_df.columns = ['lgbm', 'cat']\n",
    "\n",
    "# Create prediction DF\n",
    "prediction_df = pd.merge(prediction_lgbm, prediction_cat, \n",
    "                         how='left', \n",
    "                         on='id')\n",
    "prediction_df.columns = ['id', 'lgbm', 'cat']\n",
    "\n",
    "print(f'Shape fo the OOF DF {oof_df.shape}') \n",
    "print(f'Shape fo the Prediction DF {prediction_df.shape}')"
   ]
  },
  {
   "cell_type": "markdown",
   "metadata": {},
   "source": [
    "## Stack with LGBM as the Second Layer Predictor (Stratified = True)"
   ]
  },
  {
   "cell_type": "code",
   "execution_count": 4,
   "metadata": {},
   "outputs": [
    {
     "name": "stderr",
     "output_type": "stream",
     "text": [
      "/home/jupyter/anaconda3/envs/py37/lib/python3.7/site-packages/lightgbm/engine.py:502: UserWarning:\n",
      "\n",
      "Found `n_estimators` in params. Will use it instead of argument\n",
      "\n",
      "/home/jupyter/anaconda3/envs/py37/lib/python3.7/site-packages/lightgbm/engine.py:507: UserWarning:\n",
      "\n",
      "Found `early_stopping_rounds` in params. Will use it instead of argument\n",
      "\n"
     ]
    },
    {
     "name": "stdout",
     "output_type": "stream",
     "text": [
      "[1]\tcv_agg's auc: 0.784748 + 0.00198658\n",
      "[2]\tcv_agg's auc: 0.784962 + 0.00199664\n",
      "[3]\tcv_agg's auc: 0.785009 + 0.00199854\n",
      "[4]\tcv_agg's auc: 0.785119 + 0.00196179\n",
      "[5]\tcv_agg's auc: 0.785165 + 0.00194602\n",
      "[6]\tcv_agg's auc: 0.78517 + 0.00193698\n",
      "[7]\tcv_agg's auc: 0.78518 + 0.00192665\n",
      "[8]\tcv_agg's auc: 0.785194 + 0.00191697\n",
      "[9]\tcv_agg's auc: 0.785198 + 0.00190946\n",
      "[10]\tcv_agg's auc: 0.785206 + 0.00190386\n",
      "[11]\tcv_agg's auc: 0.785212 + 0.00189481\n",
      "[12]\tcv_agg's auc: 0.785229 + 0.00189694\n",
      "[13]\tcv_agg's auc: 0.785243 + 0.00190964\n",
      "[14]\tcv_agg's auc: 0.785253 + 0.00190446\n",
      "[15]\tcv_agg's auc: 0.785244 + 0.00191067\n",
      "[16]\tcv_agg's auc: 0.785238 + 0.00190621\n",
      "[17]\tcv_agg's auc: 0.785244 + 0.00190572\n",
      "[18]\tcv_agg's auc: 0.785251 + 0.00190257\n",
      "[19]\tcv_agg's auc: 0.78526 + 0.00190216\n",
      "[20]\tcv_agg's auc: 0.785262 + 0.00190696\n",
      "[21]\tcv_agg's auc: 0.785263 + 0.00190361\n",
      "[22]\tcv_agg's auc: 0.785262 + 0.00189499\n",
      "[23]\tcv_agg's auc: 0.785269 + 0.00189881\n",
      "[24]\tcv_agg's auc: 0.785265 + 0.00189545\n",
      "[25]\tcv_agg's auc: 0.785257 + 0.00189471\n",
      "[26]\tcv_agg's auc: 0.785248 + 0.00189876\n",
      "[27]\tcv_agg's auc: 0.785237 + 0.00190063\n",
      "[28]\tcv_agg's auc: 0.785241 + 0.00189908\n",
      "[29]\tcv_agg's auc: 0.785244 + 0.0018923\n",
      "[30]\tcv_agg's auc: 0.785244 + 0.00189088\n",
      "[31]\tcv_agg's auc: 0.785244 + 0.00188879\n",
      "[32]\tcv_agg's auc: 0.785236 + 0.00188705\n",
      "[33]\tcv_agg's auc: 0.785237 + 0.00188362\n",
      "[34]\tcv_agg's auc: 0.78523 + 0.00188768\n",
      "[35]\tcv_agg's auc: 0.785228 + 0.00188485\n",
      "[36]\tcv_agg's auc: 0.785217 + 0.00188602\n",
      "[37]\tcv_agg's auc: 0.785215 + 0.00188635\n",
      "[38]\tcv_agg's auc: 0.785206 + 0.001891\n",
      "[39]\tcv_agg's auc: 0.785203 + 0.00188924\n",
      "[40]\tcv_agg's auc: 0.785199 + 0.00188694\n",
      "[41]\tcv_agg's auc: 0.785191 + 0.00188315\n",
      "[42]\tcv_agg's auc: 0.785184 + 0.00188727\n",
      "[43]\tcv_agg's auc: 0.785177 + 0.00188638\n",
      "[44]\tcv_agg's auc: 0.785173 + 0.00189092\n",
      "[45]\tcv_agg's auc: 0.785169 + 0.00189178\n",
      "[46]\tcv_agg's auc: 0.785162 + 0.00189138\n",
      "[47]\tcv_agg's auc: 0.785156 + 0.00189134\n",
      "[48]\tcv_agg's auc: 0.785149 + 0.00188968\n",
      "best number of iterations 23\n",
      "best number of iterations 0.7851818575971362\n",
      "best number of iterations 0.0019226535783954933\n"
     ]
    }
   ],
   "source": [
    "# Parameters related to model\n",
    "METRIC = 'auc'\n",
    "N_ESTIMATORS = 1000\n",
    "EARLY_STOPPING_ROUNDS = 25\n",
    "VERBOSE = -1\n",
    "N_THREADS = -1\n",
    "\n",
    "# Name of the target\n",
    "TARGET = 'target'\n",
    "\n",
    "# Params \n",
    "lgb_params = {\n",
    "    'objective' : 'binary',\n",
    "    'boosting_type' : 'gbdt',\n",
    "    'metric' : METRIC,\n",
    "    'num_threads': N_THREADS,\n",
    "    'verbose' : VERBOSE,\n",
    "    'seed': SEED,\n",
    "    'n_estimators' : N_ESTIMATORS,\n",
    "    'early_stopping_rounds' : EARLY_STOPPING_ROUNDS\n",
    "    }\n",
    "\n",
    "lgb_train = lgb.Dataset(oof_df, train[TARGET])\n",
    "lgb_test = lgb.Dataset(prediction_df)\n",
    "\n",
    "lgb_result = lgb.cv(params=lgb_params, train_set=lgb_train, nfold=5, stratified=True, show_stdv=True, verbose_eval=1, shuffle=True)\n",
    "\n",
    "# The length of this array tells \n",
    "# us the number of iterations\n",
    "# Needed to reach the score.\n",
    "lgb_best_nrounds = len(lgb_result['auc-mean'])\n",
    "lgb_cv_mean = np.mean(lgb_result['auc-mean'])\n",
    "lgb_cv_std = np.mean(lgb_result['auc-stdv'])\n",
    "\n",
    "print(f'best number of iterations {lgb_best_nrounds}')\n",
    "print(f'best number of iterations {lgb_cv_mean}')\n",
    "print(f'best number of iterations {lgb_cv_std}')"
   ]
  },
  {
   "cell_type": "markdown",
   "metadata": {},
   "source": [
    "## Stack with LGBM as the Second Layer Predictor (Stratified = False)"
   ]
  },
  {
   "cell_type": "code",
   "execution_count": 5,
   "metadata": {},
   "outputs": [
    {
     "name": "stderr",
     "output_type": "stream",
     "text": [
      "/home/jupyter/anaconda3/envs/py37/lib/python3.7/site-packages/lightgbm/engine.py:502: UserWarning:\n",
      "\n",
      "Found `n_estimators` in params. Will use it instead of argument\n",
      "\n",
      "/home/jupyter/anaconda3/envs/py37/lib/python3.7/site-packages/lightgbm/engine.py:507: UserWarning:\n",
      "\n",
      "Found `early_stopping_rounds` in params. Will use it instead of argument\n",
      "\n"
     ]
    },
    {
     "name": "stdout",
     "output_type": "stream",
     "text": [
      "[1]\tcv_agg's auc: 0.784719 + 0.000586302\n",
      "[2]\tcv_agg's auc: 0.784972 + 0.000607408\n",
      "[3]\tcv_agg's auc: 0.785074 + 0.000619804\n",
      "[4]\tcv_agg's auc: 0.785124 + 0.00063039\n",
      "[5]\tcv_agg's auc: 0.785152 + 0.000637363\n",
      "[6]\tcv_agg's auc: 0.785189 + 0.000641033\n",
      "[7]\tcv_agg's auc: 0.785222 + 0.000639568\n",
      "[8]\tcv_agg's auc: 0.785224 + 0.000641326\n",
      "[9]\tcv_agg's auc: 0.785239 + 0.000657198\n",
      "[10]\tcv_agg's auc: 0.785256 + 0.000641546\n",
      "[11]\tcv_agg's auc: 0.785257 + 0.000644141\n",
      "[12]\tcv_agg's auc: 0.78526 + 0.00064082\n",
      "[13]\tcv_agg's auc: 0.785266 + 0.000640836\n",
      "[14]\tcv_agg's auc: 0.785261 + 0.000643215\n",
      "[15]\tcv_agg's auc: 0.785266 + 0.000648075\n",
      "[16]\tcv_agg's auc: 0.785263 + 0.000648925\n",
      "[17]\tcv_agg's auc: 0.785269 + 0.000647956\n",
      "[18]\tcv_agg's auc: 0.785276 + 0.000648615\n",
      "[19]\tcv_agg's auc: 0.785273 + 0.000657286\n",
      "[20]\tcv_agg's auc: 0.78527 + 0.00065581\n",
      "[21]\tcv_agg's auc: 0.785271 + 0.000660348\n",
      "[22]\tcv_agg's auc: 0.785275 + 0.000658857\n",
      "[23]\tcv_agg's auc: 0.785272 + 0.000654387\n",
      "[24]\tcv_agg's auc: 0.785275 + 0.000649109\n",
      "[25]\tcv_agg's auc: 0.785277 + 0.000657298\n",
      "[26]\tcv_agg's auc: 0.785274 + 0.000663737\n",
      "[27]\tcv_agg's auc: 0.785273 + 0.000672235\n",
      "[28]\tcv_agg's auc: 0.785269 + 0.000682405\n",
      "[29]\tcv_agg's auc: 0.785261 + 0.000684814\n",
      "[30]\tcv_agg's auc: 0.785261 + 0.000681762\n",
      "[31]\tcv_agg's auc: 0.785253 + 0.000681758\n",
      "[32]\tcv_agg's auc: 0.785253 + 0.000677819\n",
      "[33]\tcv_agg's auc: 0.785245 + 0.000679793\n",
      "[34]\tcv_agg's auc: 0.785248 + 0.000682553\n",
      "[35]\tcv_agg's auc: 0.785245 + 0.000672254\n",
      "[36]\tcv_agg's auc: 0.785233 + 0.000671972\n",
      "[37]\tcv_agg's auc: 0.785224 + 0.000670924\n",
      "[38]\tcv_agg's auc: 0.785218 + 0.000675555\n",
      "[39]\tcv_agg's auc: 0.785215 + 0.000670847\n",
      "[40]\tcv_agg's auc: 0.785211 + 0.000666678\n",
      "[41]\tcv_agg's auc: 0.785204 + 0.000660416\n",
      "[42]\tcv_agg's auc: 0.785201 + 0.000661487\n",
      "[43]\tcv_agg's auc: 0.785194 + 0.000657641\n",
      "[44]\tcv_agg's auc: 0.785191 + 0.000659666\n",
      "[45]\tcv_agg's auc: 0.785188 + 0.000659726\n",
      "[46]\tcv_agg's auc: 0.785186 + 0.000659325\n",
      "[47]\tcv_agg's auc: 0.785188 + 0.00066065\n",
      "[48]\tcv_agg's auc: 0.785184 + 0.000655886\n",
      "[49]\tcv_agg's auc: 0.785179 + 0.000662277\n",
      "[50]\tcv_agg's auc: 0.785176 + 0.000663069\n",
      "best number of iterations 25\n",
      "best number of iterations 0.7852079480651841\n",
      "best number of iterations 0.0006423045404554166\n"
     ]
    }
   ],
   "source": [
    "lgb_result = lgb.cv(params=lgb_params, train_set=lgb_train, nfold=5, stratified=True, show_stdv=True, verbose_eval=1, shuffle=False)\n",
    "\n",
    "# The length of this array tells \n",
    "# us the number of iterations\n",
    "# Needed to reach the score.\n",
    "lgb_best_nrounds = len(lgb_result['auc-mean'])\n",
    "lgb_cv_mean = np.mean(lgb_result['auc-mean'])\n",
    "lgb_cv_std = np.mean(lgb_result['auc-stdv'])\n",
    "\n",
    "print(f'best number of iterations {lgb_best_nrounds}')\n",
    "print(f'best number of iterations {lgb_cv_mean}')\n",
    "print(f'best number of iterations {lgb_cv_std}')"
   ]
  },
  {
   "cell_type": "markdown",
   "metadata": {},
   "source": [
    "## Stack with XGB as the Second Layer Predictor (Stratified = True)"
   ]
  },
  {
   "cell_type": "code",
   "execution_count": 18,
   "metadata": {},
   "outputs": [
    {
     "name": "stderr",
     "output_type": "stream",
     "text": [
      "/home/jupyter/anaconda3/envs/py37/lib/python3.7/site-packages/xgboost/core.py:587: FutureWarning:\n",
      "\n",
      "Series.base is deprecated and will be removed in a future version\n",
      "\n",
      "/home/jupyter/anaconda3/envs/py37/lib/python3.7/site-packages/xgboost/core.py:588: FutureWarning:\n",
      "\n",
      "Series.base is deprecated and will be removed in a future version\n",
      "\n"
     ]
    },
    {
     "name": "stdout",
     "output_type": "stream",
     "text": [
      "[0]\ttrain-auc:0.785585+0.000476815\ttest-auc:0.784719+0.00185479\n",
      "[1]\ttrain-auc:0.785993+0.000471656\ttest-auc:0.784932+0.00189893\n",
      "[2]\ttrain-auc:0.786226+0.000485657\ttest-auc:0.785041+0.00192133\n",
      "[3]\ttrain-auc:0.786381+0.000472762\ttest-auc:0.785074+0.00193066\n",
      "[4]\ttrain-auc:0.786544+0.000467533\ttest-auc:0.785056+0.00194704\n",
      "[5]\ttrain-auc:0.786673+0.000473325\ttest-auc:0.785059+0.00194739\n",
      "[6]\ttrain-auc:0.786797+0.000477298\ttest-auc:0.785091+0.00192539\n",
      "[7]\ttrain-auc:0.786929+0.00048862\ttest-auc:0.785084+0.00193133\n",
      "[8]\ttrain-auc:0.787053+0.000489087\ttest-auc:0.785071+0.0019432\n",
      "[9]\ttrain-auc:0.787155+0.000491343\ttest-auc:0.785055+0.00194661\n",
      "[10]\ttrain-auc:0.787261+0.000484314\ttest-auc:0.785068+0.00194266\n",
      "[11]\ttrain-auc:0.787368+0.000502516\ttest-auc:0.785067+0.00196304\n",
      "[12]\ttrain-auc:0.787475+0.000506328\ttest-auc:0.785047+0.0019676\n",
      "[13]\ttrain-auc:0.787567+0.000500398\ttest-auc:0.785037+0.00194859\n",
      "[14]\ttrain-auc:0.787655+0.00048959\ttest-auc:0.785029+0.00193679\n",
      "[15]\ttrain-auc:0.78776+0.000514095\ttest-auc:0.785025+0.00194155\n",
      "[16]\ttrain-auc:0.787842+0.000518417\ttest-auc:0.784996+0.00193495\n",
      "[17]\ttrain-auc:0.787897+0.000525908\ttest-auc:0.785002+0.00193843\n",
      "[18]\ttrain-auc:0.787948+0.000528726\ttest-auc:0.78499+0.00192918\n",
      "[19]\ttrain-auc:0.787989+0.000536674\ttest-auc:0.784972+0.00194339\n",
      "[20]\ttrain-auc:0.788028+0.000531794\ttest-auc:0.784968+0.00194561\n",
      "[21]\ttrain-auc:0.788076+0.000505794\ttest-auc:0.784966+0.00195035\n",
      "[22]\ttrain-auc:0.788111+0.000526117\ttest-auc:0.784963+0.00195052\n",
      "[23]\ttrain-auc:0.788125+0.000524701\ttest-auc:0.784965+0.00194951\n",
      "[24]\ttrain-auc:0.788148+0.000523364\ttest-auc:0.784958+0.00194964\n",
      "[25]\ttrain-auc:0.788187+0.000488022\ttest-auc:0.784951+0.00193761\n",
      "[26]\ttrain-auc:0.788195+0.000492064\ttest-auc:0.784948+0.00193514\n",
      "[27]\ttrain-auc:0.788214+0.000492931\ttest-auc:0.784947+0.00193553\n",
      "[28]\ttrain-auc:0.788238+0.000493298\ttest-auc:0.784939+0.00193574\n",
      "[29]\ttrain-auc:0.788241+0.000490709\ttest-auc:0.784937+0.00193393\n",
      "[30]\ttrain-auc:0.788298+0.000504728\ttest-auc:0.784918+0.00193834\n",
      "best number of iterations 7\n",
      "best number of iterations 0.7867966\n",
      "best number of iterations 0.00047729848103676925\n"
     ]
    }
   ],
   "source": [
    "# Parameters related to KFold\n",
    "N_FOLDS = 10\n",
    "SHUFFLE = True\n",
    "\n",
    "# Parameters related to model\n",
    "MODEL_TYPE = \"xgb\"\n",
    "METRIC = 'auc'\n",
    "N_ESTIMATORS = 1000\n",
    "EARLY_STOPPING_ROUNDS = 25\n",
    "VERBOSE = 1\n",
    "N_THREADS = -1\n",
    "\n",
    "# Name of the target\n",
    "TARGET = 'target'\n",
    "\n",
    "xgb_params = {\n",
    "    'objective' : 'binary:logistic',\n",
    "    'booster' : 'gbtree',\n",
    "    'eval_metric' : METRIC,\n",
    "    'nthread': N_THREADS,\n",
    "    'seed': SEED,\n",
    "    'validate_parameters' : True\n",
    "    }\n",
    "\n",
    "xgb_train = xgb.DMatrix(data=oof_df, label=train[TARGET])\n",
    "xgb_test = xgb.DMatrix(prediction_df[['lgbm', 'cat']])\n",
    "\n",
    "results_xgb = xgb.cv(params=xgb_params, \n",
    "                     dtrain=xgb_train, \n",
    "                     num_boost_round=N_ESTIMATORS, \n",
    "                     stratified=True,\n",
    "                     nfold=5, \n",
    "                     early_stopping_rounds=25,\n",
    "                     show_stdv=True, \n",
    "                     shuffle=True, \n",
    "                     verbose_eval=1)\n",
    "\n",
    "xgb_best_nrounds = results_xgb.shape[0]\n",
    "xgb_cv_mean = results_xgb.iloc[-1, 0]\n",
    "xgb_cv_std = results_xgb.iloc[-1, 1]\n",
    "\n",
    "print(f'best number of iterations {xgb_best_nrounds}')\n",
    "print(f'best number of iterations {xgb_cv_mean}')\n",
    "print(f'best number of iterations {xgb_cv_std}')"
   ]
  },
  {
   "cell_type": "markdown",
   "metadata": {},
   "source": [
    "#### Explanation of the output above\n",
    "Here, I am printing at the end of each iteration.\n",
    "- Each line above represents the train and test auc score averaged over nfolds (5 here) and corresponding std.\n",
    "- The best test-auc-mean is reached at the 6th (0 index based) iteration.\n",
    "- Since early stopping round is set to 25, XGB continued to train for another 25 iteration (including 6th) and then stopped.\n",
    "- results_xgb represents the train and test auc score averaged over nfolds till the 6th iteration (0 index based)"
   ]
  },
  {
   "cell_type": "code",
   "execution_count": 12,
   "metadata": {},
   "outputs": [
    {
     "data": {
      "text/html": [
       "<div>\n",
       "<style scoped>\n",
       "    .dataframe tbody tr th:only-of-type {\n",
       "        vertical-align: middle;\n",
       "    }\n",
       "\n",
       "    .dataframe tbody tr th {\n",
       "        vertical-align: top;\n",
       "    }\n",
       "\n",
       "    .dataframe thead th {\n",
       "        text-align: right;\n",
       "    }\n",
       "</style>\n",
       "<table border=\"1\" class=\"dataframe\">\n",
       "  <thead>\n",
       "    <tr style=\"text-align: right;\">\n",
       "      <th></th>\n",
       "      <th>train-auc-mean</th>\n",
       "      <th>train-auc-std</th>\n",
       "      <th>test-auc-mean</th>\n",
       "      <th>test-auc-std</th>\n",
       "    </tr>\n",
       "  </thead>\n",
       "  <tbody>\n",
       "    <tr>\n",
       "      <td>0</td>\n",
       "      <td>0.785628</td>\n",
       "      <td>0.000299</td>\n",
       "      <td>0.784596</td>\n",
       "      <td>0.000924</td>\n",
       "    </tr>\n",
       "    <tr>\n",
       "      <td>1</td>\n",
       "      <td>0.786049</td>\n",
       "      <td>0.000268</td>\n",
       "      <td>0.784859</td>\n",
       "      <td>0.000980</td>\n",
       "    </tr>\n",
       "    <tr>\n",
       "      <td>2</td>\n",
       "      <td>0.786252</td>\n",
       "      <td>0.000262</td>\n",
       "      <td>0.784962</td>\n",
       "      <td>0.001026</td>\n",
       "    </tr>\n",
       "    <tr>\n",
       "      <td>3</td>\n",
       "      <td>0.786412</td>\n",
       "      <td>0.000270</td>\n",
       "      <td>0.784988</td>\n",
       "      <td>0.001013</td>\n",
       "    </tr>\n",
       "    <tr>\n",
       "      <td>4</td>\n",
       "      <td>0.786559</td>\n",
       "      <td>0.000270</td>\n",
       "      <td>0.784985</td>\n",
       "      <td>0.001024</td>\n",
       "    </tr>\n",
       "    <tr>\n",
       "      <td>5</td>\n",
       "      <td>0.786673</td>\n",
       "      <td>0.000245</td>\n",
       "      <td>0.784989</td>\n",
       "      <td>0.001025</td>\n",
       "    </tr>\n",
       "    <tr>\n",
       "      <td>6</td>\n",
       "      <td>0.786819</td>\n",
       "      <td>0.000269</td>\n",
       "      <td>0.785000</td>\n",
       "      <td>0.001045</td>\n",
       "    </tr>\n",
       "    <tr>\n",
       "      <td>7</td>\n",
       "      <td>0.786946</td>\n",
       "      <td>0.000280</td>\n",
       "      <td>0.785026</td>\n",
       "      <td>0.001045</td>\n",
       "    </tr>\n",
       "    <tr>\n",
       "      <td>8</td>\n",
       "      <td>0.787069</td>\n",
       "      <td>0.000283</td>\n",
       "      <td>0.785036</td>\n",
       "      <td>0.001025</td>\n",
       "    </tr>\n",
       "  </tbody>\n",
       "</table>\n",
       "</div>"
      ],
      "text/plain": [
       "   train-auc-mean  train-auc-std  test-auc-mean  test-auc-std\n",
       "0        0.785628       0.000299       0.784596      0.000924\n",
       "1        0.786049       0.000268       0.784859      0.000980\n",
       "2        0.786252       0.000262       0.784962      0.001026\n",
       "3        0.786412       0.000270       0.784988      0.001013\n",
       "4        0.786559       0.000270       0.784985      0.001024\n",
       "5        0.786673       0.000245       0.784989      0.001025\n",
       "6        0.786819       0.000269       0.785000      0.001045\n",
       "7        0.786946       0.000280       0.785026      0.001045\n",
       "8        0.787069       0.000283       0.785036      0.001025"
      ]
     },
     "execution_count": 12,
     "metadata": {},
     "output_type": "execute_result"
    }
   ],
   "source": [
    "# Print XGB\n",
    "results_xgb"
   ]
  },
  {
   "cell_type": "markdown",
   "metadata": {},
   "source": [
    "## Stack with XGB as the Second Layer Predictor (Stratified = False)"
   ]
  },
  {
   "cell_type": "code",
   "execution_count": 14,
   "metadata": {},
   "outputs": [
    {
     "name": "stdout",
     "output_type": "stream",
     "text": [
      "[0]\ttrain-auc:0.785628+0.000298992\ttest-auc:0.784596+0.000923552\n",
      "[1]\ttrain-auc:0.786049+0.000268235\ttest-auc:0.784859+0.000979865\n",
      "[2]\ttrain-auc:0.786252+0.000262263\ttest-auc:0.784962+0.00102623\n",
      "[3]\ttrain-auc:0.786412+0.000270374\ttest-auc:0.784988+0.00101297\n",
      "[4]\ttrain-auc:0.786559+0.000269792\ttest-auc:0.784985+0.001024\n",
      "[5]\ttrain-auc:0.786673+0.00024544\ttest-auc:0.784989+0.00102456\n",
      "[6]\ttrain-auc:0.786819+0.000269318\ttest-auc:0.785+0.00104529\n",
      "[7]\ttrain-auc:0.786946+0.000280137\ttest-auc:0.785026+0.00104471\n",
      "[8]\ttrain-auc:0.787069+0.000283464\ttest-auc:0.785036+0.00102464\n",
      "[9]\ttrain-auc:0.787184+0.000289438\ttest-auc:0.785016+0.00104636\n",
      "[10]\ttrain-auc:0.7873+0.00028956\ttest-auc:0.785022+0.00107733\n",
      "[11]\ttrain-auc:0.7874+0.000281698\ttest-auc:0.784993+0.00106041\n",
      "[12]\ttrain-auc:0.787513+0.000266138\ttest-auc:0.784997+0.00104246\n",
      "[13]\ttrain-auc:0.787623+0.000268869\ttest-auc:0.78499+0.00103779\n",
      "[14]\ttrain-auc:0.787707+0.000281389\ttest-auc:0.784983+0.00103927\n",
      "[15]\ttrain-auc:0.787797+0.00027521\ttest-auc:0.784966+0.00104084\n",
      "[16]\ttrain-auc:0.787854+0.000275212\ttest-auc:0.784958+0.00103575\n",
      "[17]\ttrain-auc:0.787915+0.000287655\ttest-auc:0.784944+0.00102448\n",
      "[18]\ttrain-auc:0.787966+0.000276084\ttest-auc:0.784938+0.00101752\n",
      "[19]\ttrain-auc:0.78802+0.000271453\ttest-auc:0.784927+0.00100516\n",
      "[20]\ttrain-auc:0.788068+0.000268778\ttest-auc:0.784914+0.000996382\n",
      "[21]\ttrain-auc:0.788105+0.000268711\ttest-auc:0.784912+0.000994292\n",
      "[22]\ttrain-auc:0.78814+0.000301739\ttest-auc:0.784897+0.00100178\n",
      "[23]\ttrain-auc:0.788181+0.000292999\ttest-auc:0.784878+0.000994068\n",
      "[24]\ttrain-auc:0.788194+0.000290589\ttest-auc:0.784875+0.000993625\n",
      "[25]\ttrain-auc:0.788216+0.000286467\ttest-auc:0.784876+0.000994442\n",
      "[26]\ttrain-auc:0.788245+0.000322381\ttest-auc:0.784865+0.00100761\n",
      "[27]\ttrain-auc:0.788282+0.000310283\ttest-auc:0.784852+0.00100375\n",
      "[28]\ttrain-auc:0.78829+0.000315739\ttest-auc:0.784851+0.00100684\n",
      "[29]\ttrain-auc:0.788315+0.000350033\ttest-auc:0.784839+0.0010236\n",
      "[30]\ttrain-auc:0.788329+0.000366451\ttest-auc:0.784836+0.00103029\n",
      "[31]\ttrain-auc:0.788387+0.000383718\ttest-auc:0.784823+0.00104705\n",
      "[32]\ttrain-auc:0.788473+0.000330393\ttest-auc:0.784807+0.00103775\n",
      "best number of iterations 9\n",
      "best number of iterations 0.787069\n",
      "best number of iterations 0.0002834635779072801\n"
     ]
    }
   ],
   "source": [
    "results_xgb = xgb.cv(params=xgb_params, \n",
    "                     dtrain=xgb_train, \n",
    "                     num_boost_round=N_ESTIMATORS, \n",
    "                     stratified=False,\n",
    "                     nfold=5, \n",
    "                     early_stopping_rounds=25,\n",
    "                     show_stdv=True, \n",
    "                     shuffle=True, \n",
    "                     verbose_eval=1)\n",
    "\n",
    "xgb_best_nrounds = results_xgb.shape[0]\n",
    "xgb_cv_mean = results_xgb.iloc[-1, 0]\n",
    "xgb_cv_std = results_xgb.iloc[-1, 1]\n",
    "\n",
    "print(f'best number of iterations {xgb_best_nrounds}')\n",
    "print(f'best number of iterations {xgb_cv_mean}')\n",
    "print(f'best number of iterations {xgb_cv_std}')"
   ]
  },
  {
   "cell_type": "markdown",
   "metadata": {},
   "source": [
    "#### Since, the XGB with Startified False has a better CV score, I will go ahead with XGB.\n",
    "\n",
    "- XGB (Startified = True) :  0.7867966 / 0.00047729848103676925\n",
    "- XGB (Startified = False) : 0.787069 / 0.0002834635779072801\n",
    "\n",
    "Note : While doing the final model building, Startified True or False doesn't make any sense.\n",
    "Stratification is useful for CV only.\n",
    "\n",
    "- I will use the number of best iterations based on the CV."
   ]
  },
  {
   "cell_type": "markdown",
   "metadata": {},
   "source": [
    "## Predict"
   ]
  },
  {
   "cell_type": "code",
   "execution_count": 21,
   "metadata": {},
   "outputs": [],
   "source": [
    "# Build the final model for predcition\n",
    "# OOF predictions from level 1 are the independent variables.\n",
    "# Number of iterations are selected from the cross validation above\n",
    "xgb_final = xgb.train(xgb_params, dtrain=xgb_train, num_boost_round=xgb_best_nrounds)"
   ]
  },
  {
   "cell_type": "code",
   "execution_count": 22,
   "metadata": {},
   "outputs": [
    {
     "name": "stdout",
     "output_type": "stream",
     "text": [
      "(400000,)\n"
     ]
    }
   ],
   "source": [
    "# Predict\n",
    "# Independent variables are the predictions from Level 1\n",
    "# That is the submissions from level 1\n",
    "prediction_test = xgb_final.predict(xgb_test)\n",
    "\n",
    "print(prediction_test.shape)\n",
    "\n",
    "submission.target = prediction_test\n",
    "\n",
    "submission.head()"
   ]
  },
  {
   "cell_type": "code",
   "execution_count": 26,
   "metadata": {},
   "outputs": [],
   "source": [
    "# Build the submission name\n",
    "submission_file_name = '3_sub_xgb_stacker_baseline_0130_1057_0.7871.csv'\n",
    "\n",
    "submission.to_csv(f'{SUBMISSION_DIR}/{submission_file_name}', index=False)"
   ]
  },
  {
   "cell_type": "code",
   "execution_count": 31,
   "metadata": {},
   "outputs": [
    {
     "data": {
      "text/plain": [
       "'../../sub/3_sub_xgb_stacker_baseline_0130_1057_0.7871.csv'"
      ]
     },
     "execution_count": 31,
     "metadata": {},
     "output_type": "execute_result"
    }
   ],
   "source": [
    "f'{SUBMISSION_DIR}/{submission_file_name}'"
   ]
  },
  {
   "cell_type": "code",
   "execution_count": 32,
   "metadata": {},
   "outputs": [
    {
     "name": "stdout",
     "output_type": "stream",
     "text": [
      "100%|██████████| 6.86M/6.86M [00:00<00:00, 17.4MB/s]\n",
      "Successfully submitted to Categorical Feature Encoding Challenge II"
     ]
    }
   ],
   "source": [
    "! /home/jupyter/.local/bin/kaggle competitions submit -c cat-in-the-dat-ii -f ../../sub/3_sub_xgb_stacker_baseline_0130_1057_0.7871.csv -m \"Baseline stacking with LGBM & Cat base models\""
   ]
  },
  {
   "cell_type": "code",
   "execution_count": null,
   "metadata": {},
   "outputs": [],
   "source": []
  },
  {
   "cell_type": "code",
   "execution_count": null,
   "metadata": {},
   "outputs": [],
   "source": []
  },
  {
   "cell_type": "code",
   "execution_count": null,
   "metadata": {},
   "outputs": [],
   "source": []
  }
 ],
 "metadata": {
  "kernelspec": {
   "display_name": "py_37",
   "language": "python",
   "name": "py_37"
  },
  "language_info": {
   "codemirror_mode": {
    "name": "ipython",
    "version": 3
   },
   "file_extension": ".py",
   "mimetype": "text/x-python",
   "name": "python",
   "nbconvert_exporter": "python",
   "pygments_lexer": "ipython3",
   "version": "3.7.4"
  }
 },
 "nbformat": 4,
 "nbformat_minor": 4
}
